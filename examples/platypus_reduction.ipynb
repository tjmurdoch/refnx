{
 "cells": [
  {
   "cell_type": "markdown",
   "metadata": {},
   "source": [
    "# Example Platypus reduction using `refnx`"
   ]
  },
  {
   "cell_type": "code",
   "execution_count": null,
   "metadata": {
    "collapsed": true
   },
   "outputs": [],
   "source": [
    "import numpy as np\n",
    "import matplotlib.pyplot as plt\n",
    "from refnx.reduce import PlatypusReduce, reduce_stitch\n",
    "from refnx.dataset import ReflectDataset, Data1D\n",
    "%matplotlib inline"
   ]
  },
  {
   "cell_type": "code",
   "execution_count": 2,
   "metadata": {
    "collapsed": true
   },
   "outputs": [],
   "source": [
    "data_directory = '../refnx/reduce/test/'"
   ]
  },
  {
   "cell_type": "markdown",
   "metadata": {},
   "source": [
    "This command reduces and stitches multiple files together. The\n",
    "dataset is saved in the current working directory, if `save==True`. Use of `data_folder`\n",
    "is not necessary if the data is in the current directory. The\n",
    "first list is a list of the reflected beam files. The second is a\n",
    "list of the direct beam run files."
   ]
  },
  {
   "cell_type": "code",
   "execution_count": 3,
   "metadata": {
    "collapsed": false
   },
   "outputs": [
    {
     "name": "stdout",
     "output_type": "stream",
     "text": [
      "c_PLP0000708.xml\n"
     ]
    }
   ],
   "source": [
    "dataset, fname = reduce_stitch([708, 709, 710],\n",
    "                               [711, 711, 711],\n",
    "                               data_folder=data_directory,\n",
    "                               rebin_percent=3,\n",
    "                               save=True)\n",
    "print(fname)"
   ]
  },
  {
   "cell_type": "code",
   "execution_count": 4,
   "metadata": {
    "collapsed": false
   },
   "outputs": [
    {
     "data": {
      "image/png": "[encoded data removed]",
      "text/plain": [
       "<matplotlib.figure.Figure at 0x104d52470>"
      ]
     },
     "metadata": {},
     "output_type": "display_data"
    }
   ],
   "source": [
    "plt.errorbar(dataset.x, dataset.y, dataset.y_err)\n",
    "plt.yscale('log')"
   ]
  },
  {
   "cell_type": "markdown",
   "metadata": {},
   "source": [
    "One can reduce files individually. A `ReducePlatypus` object is created with the direct beam run.  You need to create different `ReducePlatypus` objects for each direct beam used."
   ]
  },
  {
   "cell_type": "code",
   "execution_count": 5,
   "metadata": {
    "collapsed": true
   },
   "outputs": [],
   "source": [
    "reducer = ReducePlatypus('PLP0000711.nx.hdf', data_folder=data_directory)"
   ]
  },
  {
   "cell_type": "code",
   "execution_count": 6,
   "metadata": {
    "collapsed": true
   },
   "outputs": [],
   "source": [
    "reduced_data = reducer.reduce('PLP0000708.nx.hdf', rebin_percent=3, save=True)\n",
    "# alternatively\n",
    "reduced_data = reducer('PLP0000708.nx.hdf', rebin_percent=3, save=True)"
   ]
  },
  {
   "cell_type": "markdown",
   "metadata": {},
   "source": [
    "`reduced_data` is a dict which contains all the reduced data. Additionally, the files are saved if you use the `save=True` keyword. You can get the filenames from `reduced_data['fname']`"
   ]
  },
  {
   "cell_type": "code",
   "execution_count": 7,
   "metadata": {
    "collapsed": false
   },
   "outputs": [
    {
     "name": "stdout",
     "output_type": "stream",
     "text": [
      "['PLP0000708_0.dat']\n"
     ]
    }
   ],
   "source": [
    "print(reduced_data['fname'])"
   ]
  },
  {
   "cell_type": "markdown",
   "metadata": {},
   "source": [
    "The following items are present in `reduced_data`."
   ]
  },
  {
   "cell_type": "code",
   "execution_count": 8,
   "metadata": {
    "collapsed": false
   },
   "outputs": [
    {
     "data": {
      "text/plain": [
       "dict_keys(['xdata', 'm_ref_sd', 'ydata_sd', 'qy', 'datafile_number', 'm_ref', 'qz', 'xdata_sd', 'nspectra', 'fname', 'ydata', 'start_time'])"
      ]
     },
     "execution_count": 8,
     "metadata": {},
     "output_type": "execute_result"
    }
   ],
   "source": [
    "reduced_data.keys()"
   ]
  },
  {
   "cell_type": "markdown",
   "metadata": {},
   "source": [
    "`nspectra` is the number of detector images, N.\n",
    "\n",
    "`m_ref` is the 2D offspecular map. `m_ref.shape=(N, T, Y)`. `T` and `Y` are the number of wavelength and y-bins (2theta) respectively.\n",
    "\n",
    "`qz` and `qy` are the corresponding Q values for `m_ref`."
   ]
  },
  {
   "cell_type": "markdown",
   "metadata": {},
   "source": [
    "## Batch reduction"
   ]
  },
  {
   "cell_type": "code",
   "execution_count": 9,
   "metadata": {
    "collapsed": false
   },
   "outputs": [
    {
     "name": "stdout",
     "output_type": "stream",
     "text": [
      "Reducing test data [708, 709, 710]/[711, 711, 711]\n"
     ]
    },
    {
     "data": {
      "text/html": [
       "<div>\n",
       "<table border=\"1\" class=\"dataframe\">\n",
       "  <thead>\n",
       "    <tr style=\"text-align: right;\">\n",
       "      <th></th>\n",
       "      <th>source</th>\n",
       "      <th>reduce</th>\n",
       "      <th>name</th>\n",
       "      <th>scale</th>\n",
       "      <th>refl1</th>\n",
       "      <th>refl2</th>\n",
       "      <th>refl3</th>\n",
       "      <th>dir1</th>\n",
       "      <th>dir2</th>\n",
       "      <th>dir3</th>\n",
       "      <th>reduced</th>\n",
       "      <th>filename</th>\n",
       "    </tr>\n",
       "  </thead>\n",
       "  <tbody>\n",
       "    <tr>\n",
       "      <th>0</th>\n",
       "      <td>2</td>\n",
       "      <td>1</td>\n",
       "      <td>test data</td>\n",
       "      <td>1</td>\n",
       "      <td>708</td>\n",
       "      <td>709</td>\n",
       "      <td>710</td>\n",
       "      <td>711</td>\n",
       "      <td>711</td>\n",
       "      <td>711</td>\n",
       "      <td>True</td>\n",
       "      <td>c_PLP0000708.xml</td>\n",
       "    </tr>\n",
       "  </tbody>\n",
       "</table>\n",
       "</div>"
      ],
      "text/plain": [
       "   source  reduce       name  scale  refl1  refl2  refl3  dir1  dir2  dir3  \\\n",
       "0       2       1  test data      1    708    709    710   711   711   711   \n",
       "\n",
       "  reduced          filename  \n",
       "0    True  c_PLP0000708.xml  "
      ]
     },
     "metadata": {},
     "output_type": "execute_result"
    },
    {
     "data": {
      "text/html": [
       "<b>Summary of reduced data</b><div>\n",
       "<table border=\"1\" class=\"dataframe\">\n",
       "  <thead>\n",
       "    <tr style=\"text-align: right;\">\n",
       "      <th></th>\n",
       "      <th>source</th>\n",
       "      <th>reduce</th>\n",
       "      <th>name</th>\n",
       "      <th>scale</th>\n",
       "      <th>refl1</th>\n",
       "      <th>refl2</th>\n",
       "      <th>refl3</th>\n",
       "      <th>dir1</th>\n",
       "      <th>dir2</th>\n",
       "      <th>dir3</th>\n",
       "      <th>reduced</th>\n",
       "      <th>filename</th>\n",
       "    </tr>\n",
       "  </thead>\n",
       "  <tbody>\n",
       "    <tr>\n",
       "      <th>0</th>\n",
       "      <td>2.0</td>\n",
       "      <td>1.0</td>\n",
       "      <td>test data</td>\n",
       "      <td>1.0</td>\n",
       "      <td>708.0</td>\n",
       "      <td>709.0</td>\n",
       "      <td>710.0</td>\n",
       "      <td>711.0</td>\n",
       "      <td>711.0</td>\n",
       "      <td>711.0</td>\n",
       "      <td>True</td>\n",
       "      <td>c_PLP0000708.xml</td>\n",
       "    </tr>\n",
       "  </tbody>\n",
       "</table>\n",
       "</div>"
      ],
      "text/plain": [
       "[ReductionEntry(row=2, ds=<refnx.dataset.reflectdataset.ReflectDataset object at 0x11b74dfd0>, name='test data', fname='c_PLP0000708.xml', entry=source                     2\n",
       "reduce                     1\n",
       "name               test data\n",
       "scale                      1\n",
       "refl1                    708\n",
       "refl2                    709\n",
       "refl3                    710\n",
       "dir1                     711\n",
       "dir2                     711\n",
       "dir3                     711\n",
       "reduced                 True\n",
       "filename    c_PLP0000708.xml\n",
       "Name: 0, dtype: object)]"
      ]
     },
     "execution_count": 9,
     "metadata": {},
     "output_type": "execute_result"
    }
   ],
   "source": [
    "from refnx.reduce import BatchReducer\n",
    "b = BatchReducer('reduction.xlsx', data_folder=data_directory)\n",
    "b.reduce()"
   ]
  },
  {
   "cell_type": "markdown",
   "metadata": {},
   "source": [
    "## Event mode reduction\n",
    "If you wish to reduce event mode data use the following:"
   ]
  },
  {
   "cell_type": "code",
   "execution_count": 10,
   "metadata": {
    "collapsed": true
   },
   "outputs": [],
   "source": [
    "reduce_event = ReducePlatypus('PLP0011613.nx.hdf',\n",
    "                               data_folder=data_directory)"
   ]
  },
  {
   "cell_type": "markdown",
   "metadata": {},
   "source": [
    "Now use the ReducePlatypus object to reduce eventmode data. `eventmode` specifies the timebins for the event mode."
   ]
  },
  {
   "cell_type": "code",
   "execution_count": 11,
   "metadata": {
    "collapsed": true
   },
   "outputs": [],
   "source": [
    "reduced_event = reduce_event('PLP0011641.nx.hdf',\n",
    "                             rebin_percent=2,\n",
    "                             eventmode=[0, 900, 1800])"
   ]
  },
  {
   "cell_type": "code",
   "execution_count": 12,
   "metadata": {
    "collapsed": false
   },
   "outputs": [
    {
     "data": {
      "text/plain": [
       "dict_keys(['xdata', 'm_ref_sd', 'ydata_sd', 'qy', 'datafile_number', 'm_ref', 'qz', 'xdata_sd', 'nspectra', 'fname', 'ydata', 'start_time'])"
      ]
     },
     "execution_count": 12,
     "metadata": {},
     "output_type": "execute_result"
    }
   ],
   "source": [
    "reduced_event.keys()"
   ]
  },
  {
   "cell_type": "markdown",
   "metadata": {},
   "source": [
    "There are now two specular reflectivity curves produced, because there were two time bins specified."
   ]
  },
  {
   "cell_type": "code",
   "execution_count": 13,
   "metadata": {
    "collapsed": false
   },
   "outputs": [
    {
     "data": {
      "text/plain": [
       "((2, 103), (2, 103))"
      ]
     },
     "execution_count": 13,
     "metadata": {},
     "output_type": "execute_result"
    }
   ],
   "source": [
    "reduced_event['ydata'].shape, reduced_event['xdata'].shape"
   ]
  },
  {
   "cell_type": "markdown",
   "metadata": {},
   "source": [
    "The data is saved in:"
   ]
  },
  {
   "cell_type": "code",
   "execution_count": 14,
   "metadata": {
    "collapsed": false
   },
   "outputs": [
    {
     "data": {
      "text/plain": [
       "['PLP0011641_0.dat', 'PLP0011641_1.dat']"
      ]
     },
     "execution_count": 14,
     "metadata": {},
     "output_type": "execute_result"
    }
   ],
   "source": [
    "reduced_event['fname']"
   ]
  }
 ],
 "metadata": {
  "kernelspec": {
   "display_name": "Python 3",
   "language": "python",
   "name": "python3"
  },
  "language_info": {
   "codemirror_mode": {
    "name": "ipython",
    "version": 3.0
   },
   "file_extension": ".py",
   "mimetype": "text/x-python",
   "name": "python",
   "nbconvert_exporter": "python",
   "pygments_lexer": "ipython3",
   "version": "3.4.4"
  }
 },
 "nbformat": 4,
 "nbformat_minor": 0
}