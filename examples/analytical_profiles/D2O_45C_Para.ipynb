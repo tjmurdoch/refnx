{
 "cells": [
  {
   "cell_type": "code",
   "execution_count": 1,
   "metadata": {
    "collapsed": false
   },
   "outputs": [],
   "source": [
    "%load_ext autoreload\n",
    "%autoreload 2"
   ]
  },
  {
   "cell_type": "code",
   "execution_count": 2,
   "metadata": {
    "collapsed": false
   },
   "outputs": [],
   "source": [
    "from brush import BrushPara\n",
    "import numpy as np\n",
    "from lmfit import Parameters, printfuncs\n",
    "from refnx.analysis import Transform, CurveFitter\n",
    "from refnx.dataset import ReflectDataset\n",
    "%matplotlib inline\n",
    "import matplotlib.pyplot as plt"
   ]
  },
  {
   "cell_type": "code",
   "execution_count": 3,
   "metadata": {
    "collapsed": false
   },
   "outputs": [],
   "source": [
    "# load the dataset\n",
    "Q, R, dR, dQ = np.loadtxt('D2O45.txt', unpack=True)\n",
    "data = tuple((Q.tolist(), R.tolist(), dR.tolist(), dQ.tolist()))\n",
    "#NB d = ReflectDataset('example.txt') work if reduction done in refnx\n",
    "d = ReflectDataset(data)"
   ]
  },
  {
   "cell_type": "code",
   "execution_count": 4,
   "metadata": {
    "collapsed": true
   },
   "outputs": [],
   "source": [
    "t = Transform('logY').transform"
   ]
  },
  {
   "cell_type": "code",
   "execution_count": 5,
   "metadata": {
    "collapsed": false
   },
   "outputs": [],
   "source": [
    "# Transform the data to log R\n",
    "d.y, d.y_err = t(d.x, d.y, d.y_err)"
   ]
  },
  {
   "cell_type": "code",
   "execution_count": 6,
   "metadata": {
    "collapsed": false
   },
   "outputs": [],
   "source": [
    "#Initialise BushGauss Class\n",
    "a = BrushPara(0.93, 2, n_slices=50, dq=8.85, transform=t)"
   ]
  },
  {
   "cell_type": "code",
   "execution_count": 7,
   "metadata": {
    "collapsed": false
   },
   "outputs": [
    {
     "data": {
      "text/plain": [
       "['scale',\n",
       " 'bkg',\n",
       " 'SLD_super',\n",
       " 'SLD_sub',\n",
       " 'thickness_SiO2',\n",
       " 'SLD_SiO2',\n",
       " 'roughness_SiO2',\n",
       " 'roughness_backing',\n",
       " 'phi_init',\n",
       " 'thickness_tail',\n",
       " 'roughness_tail2int',\n",
       " 'thickness_1',\n",
       " 'phi_1',\n",
       " 'roughness_1',\n",
       " 'thickness_2',\n",
       " 'phi_2',\n",
       " 'roughness_2']"
      ]
     },
     "execution_count": 7,
     "metadata": {},
     "output_type": "execute_result"
    }
   ],
   "source": [
    "#List parameter names\n",
    "a.parameter_names()"
   ]
  },
  {
   "cell_type": "code",
   "execution_count": 8,
   "metadata": {
    "collapsed": false
   },
   "outputs": [],
   "source": [
    "#Set up values parameters object and fill with appropriate values\n",
    "P = Parameters()\n",
    "\n",
    "vals = [0.97, 3.84e-7, 2.07, 6.23, 19.2, 3.1, 3, 5, 0.127, 50, 4,\n",
    "            3.85, 0.99, 4.5, 224.135, 0.6591, 1]\n",
    "lbs = [0.95, 1e-7, 2.06, 5.8, 5, 3, 2.9, 2, 0.006, 25,3,\n",
    "            2, 0.1, 2, 1, 0.1, 1]\n",
    "ubs = [1.1, 1e-6, 2.08, 6.36, 25, 3.47, 3.6, 8, 0.5, 250,50,\n",
    "            100, 1.0, 5, 300, 0.8, 10]\n",
    "varies = np.array([True] * 17, bool)\n",
    "varies[[0, 2, 4, 5, 6]] = False\n",
    "\n",
    "for name, val, vary, lb, ub in zip(a.parameter_names(), vals, varies, lbs, ubs):\n",
    "    P.add(name, val, vary, lb, ub)"
   ]
  },
  {
   "cell_type": "code",
   "execution_count": 9,
   "metadata": {
    "collapsed": false
   },
   "outputs": [],
   "source": [
    "#Generate slab parameters and check that appropriate number generated\n",
    "slab_pars = a.to_slab(P)\n",
    "assert(slab_pars[0] * 4 + 8 == np.size(slab_pars))"
   ]
  },
  {
   "cell_type": "code",
   "execution_count": 10,
   "metadata": {
    "collapsed": false
   },
   "outputs": [
    {
     "data": {
      "text/plain": [
       "[<matplotlib.lines.Line2D at 0x5e426a0>]"
      ]
     },
     "execution_count": 10,
     "metadata": {},
     "output_type": "execute_result"
    },
    {
     "data": {
      "image/png": "[encoded data removed]",
      "text/plain": [
       "<matplotlib.figure.Figure at 0x5cdc438>"
      ]
     },
     "metadata": {},
     "output_type": "display_data"
    }
   ],
   "source": [
    "#Generate and plot SLD profile of initial parameters\n",
    "z1, rho = a.sld_profile(P)\n",
    "plt.plot(z1,rho)"
   ]
  },
  {
   "cell_type": "code",
   "execution_count": 11,
   "metadata": {
    "collapsed": false
   },
   "outputs": [
    {
     "data": {
      "text/plain": [
       "[<matplotlib.lines.Line2D at 0x6001d30>]"
      ]
     },
     "execution_count": 11,
     "metadata": {},
     "output_type": "execute_result"
    },
    {
     "data": {
      "image/png": "[encoded data removed]",
      "text/plain": [
       "<matplotlib.figure.Figure at 0x5e6a6d8>"
      ]
     },
     "metadata": {},
     "output_type": "display_data"
    }
   ],
   "source": [
    "#Generate and plot volume fraction profile of initial parameters\n",
    "z2, phi = a.vol_fraction(P)\n",
    "plt.plot(z2,phi)"
   ]
  },
  {
   "cell_type": "code",
   "execution_count": 12,
   "metadata": {
    "collapsed": false
   },
   "outputs": [
    {
     "name": "stdout",
     "output_type": "stream",
     "text": [
      "155.05534785\n"
     ]
    }
   ],
   "source": [
    "#Calculate and print area of intitial profile\n",
    "area = a.vfp_area(P)\n",
    "print(area)"
   ]
  },
  {
   "cell_type": "code",
   "execution_count": 13,
   "metadata": {
    "collapsed": false
   },
   "outputs": [
    {
     "data": {
      "text/plain": [
       "[<matplotlib.lines.Line2D at 0x6073a90>]"
      ]
     },
     "execution_count": 13,
     "metadata": {},
     "output_type": "execute_result"
    },
    {
     "data": {
      "image/png": "[encoded data removed]",
      "text/plain": [
       "<matplotlib.figure.Figure at 0x6020eb8>"
      ]
     },
     "metadata": {},
     "output_type": "display_data"
    }
   ],
   "source": [
    "#Calculate and plot simulated reflectivity\n",
    "q = np.linspace(0.01, 0.3, 1000)\n",
    "ref = a.model(q, P)\n",
    "plt.plot(q, ref)\n",
    "# plt.xscale('log')"
   ]
  },
  {
   "cell_type": "code",
   "execution_count": 14,
   "metadata": {
    "collapsed": false
   },
   "outputs": [],
   "source": [
    "# Set up curve-fitting object with model, data and parameters\n",
    "b = CurveFitter(a, d, P)"
   ]
  },
  {
   "cell_type": "code",
   "execution_count": 15,
   "metadata": {
    "collapsed": false
   },
   "outputs": [],
   "source": [
    "#Fit data\n",
    "c = b.fit('differential_evolution',tol=0.001)"
   ]
  },
  {
   "cell_type": "code",
   "execution_count": 16,
   "metadata": {
    "collapsed": false
   },
   "outputs": [
    {
     "name": "stdout",
     "output_type": "stream",
     "text": [
      "[[Fit Statistics]]\n",
      "    # function evals   = 180454\n",
      "    # data points      = 104\n",
      "    # variables        = 12\n",
      "    chi-square         = nan\n",
      "    reduced chi-square = nan\n",
      "    Akaike info crit   = nan\n",
      "    Bayesian info crit = nan\n",
      "[[Variables]]\n",
      "    scale:                0.97 (fixed)\n",
      "    bkg:                  3.1464e-07 (init= 3.84e-07)\n",
      "    SLD_super:            2.07 (fixed)\n",
      "    SLD_sub:              6.19395623 (init= 6.23)\n",
      "    thickness_SiO2:       19.2 (fixed)\n",
      "    SLD_SiO2:             3.1 (fixed)\n",
      "    roughness_SiO2:       3 (fixed)\n",
      "    roughness_backing:    4.98491787 (init= 5)\n",
      "    phi_init:             0.15046684 (init= 0.127)\n",
      "    thickness_tail:       97.9621635 (init= 50)\n",
      "    roughness_tail2int:   48.1784767 (init= 4)\n",
      "    thickness_1:          75.3395466 (init= 3.85)\n",
      "    phi_1:                0.94152259 (init= 0.99)\n",
      "    roughness_1:          4.26913514 (init= 4.5)\n",
      "    thickness_2:          53.2916530 (init= 224.135)\n",
      "    phi_2:                0.72903851 (init= 0.6591)\n",
      "    roughness_2:          2.05044163 (init= 1)\n",
      "[[Correlations]] (unreported correlations are <  0.100)\n"
     ]
    }
   ],
   "source": [
    "#Pritn Fit Report\n",
    "print(printfuncs.fit_report(c))"
   ]
  },
  {
   "cell_type": "code",
   "execution_count": 17,
   "metadata": {
    "collapsed": false
   },
   "outputs": [
    {
     "data": {
      "text/plain": [
       "[<matplotlib.lines.Line2D at 0x60e56a0>,\n",
       " <matplotlib.lines.Line2D at 0x60e5860>,\n",
       " <matplotlib.lines.Line2D at 0x60ee908>]"
      ]
     },
     "execution_count": 17,
     "metadata": {},
     "output_type": "execute_result"
    },
    {
     "data": {
      "image/png": "[encoded data removed]",
      "text/plain": [
       "<matplotlib.figure.Figure at 0x608e6a0>"
      ]
     },
     "metadata": {},
     "output_type": "display_data"
    }
   ],
   "source": [
    "#Plot fit and original data\n",
    "fit_ref = a.model(d.x,c.params)\n",
    "plt.plot(d.x,d.y,'o',d.x,fit_ref,'-',q,ref)"
   ]
  },
  {
   "cell_type": "code",
   "execution_count": 18,
   "metadata": {
    "collapsed": false
   },
   "outputs": [
    {
     "data": {
      "text/plain": [
       "Parameters([('scale',\n",
       "             <Parameter 'scale', value=0.97 (fixed), bounds=[0.95:1.1]>),\n",
       "            ('bkg',\n",
       "             <Parameter 'bkg', 3.1463618052876305e-07, bounds=[1e-07:1e-06]>),\n",
       "            ('SLD_super',\n",
       "             <Parameter 'SLD_super', value=2.07 (fixed), bounds=[2.06:2.08]>),\n",
       "            ('SLD_sub',\n",
       "             <Parameter 'SLD_sub', 6.1939562357347402, bounds=[5.8:6.36]>),\n",
       "            ('thickness_SiO2',\n",
       "             <Parameter 'thickness_SiO2', value=19.2 (fixed), bounds=[5:25]>),\n",
       "            ('SLD_SiO2',\n",
       "             <Parameter 'SLD_SiO2', value=3.1 (fixed), bounds=[3:3.47]>),\n",
       "            ('roughness_SiO2',\n",
       "             <Parameter 'roughness_SiO2', value=3 (fixed), bounds=[2.9:3.6]>),\n",
       "            ('roughness_backing',\n",
       "             <Parameter 'roughness_backing', 4.9849178774914726, bounds=[2:8]>),\n",
       "            ('phi_init',\n",
       "             <Parameter 'phi_init', 0.15046684597039575, bounds=[0.006:0.5]>),\n",
       "            ('thickness_tail',\n",
       "             <Parameter 'thickness_tail', 97.96216351929607, bounds=[25:250]>),\n",
       "            ('roughness_tail2int',\n",
       "             <Parameter 'roughness_tail2int', 48.17847677476589, bounds=[3:50]>),\n",
       "            ('thickness_1',\n",
       "             <Parameter 'thickness_1', 75.339546622423967, bounds=[2:100]>),\n",
       "            ('phi_1',\n",
       "             <Parameter 'phi_1', 0.94152259646799097, bounds=[0.1:1.0]>),\n",
       "            ('roughness_1',\n",
       "             <Parameter 'roughness_1', 4.2691351417274515, bounds=[2:5]>),\n",
       "            ('thickness_2',\n",
       "             <Parameter 'thickness_2', 53.291653036557157, bounds=[1:300]>),\n",
       "            ('phi_2',\n",
       "             <Parameter 'phi_2', 0.72903851751053472, bounds=[0.1:0.8]>),\n",
       "            ('roughness_2',\n",
       "             <Parameter 'roughness_2', 2.0504416350369614, bounds=[1:10]>)])"
      ]
     },
     "execution_count": 18,
     "metadata": {},
     "output_type": "execute_result"
    }
   ],
   "source": [
    "#Check parameters\n",
    "c.params"
   ]
  },
  {
   "cell_type": "code",
   "execution_count": 19,
   "metadata": {
    "collapsed": false
   },
   "outputs": [
    {
     "data": {
      "text/plain": [
       "118.9951917480717"
      ]
     },
     "execution_count": 19,
     "metadata": {},
     "output_type": "execute_result"
    }
   ],
   "source": [
    "#Check integrated area\n",
    "a.vfp_area(c.params)"
   ]
  },
  {
   "cell_type": "code",
   "execution_count": 20,
   "metadata": {
    "collapsed": false
   },
   "outputs": [
    {
     "data": {
      "text/plain": [
       "[<matplotlib.lines.Line2D at 0x615bcf8>]"
      ]
     },
     "execution_count": 20,
     "metadata": {},
     "output_type": "execute_result"
    },
    {
     "data": {
      "image/png": "[encoded data removed]",
      "text/plain": [
       "<matplotlib.figure.Figure at 0x6119f98>"
      ]
     },
     "metadata": {},
     "output_type": "display_data"
    }
   ],
   "source": [
    "#Plot volume fraction profile\n",
    "z, rho = a.vol_fraction(c.params)\n",
    "plt.plot(z,rho)"
   ]
  },
  {
   "cell_type": "code",
   "execution_count": null,
   "metadata": {
    "collapsed": false
   },
   "outputs": [],
   "source": []
  },
  {
   "cell_type": "code",
   "execution_count": null,
   "metadata": {
    "collapsed": true
   },
   "outputs": [],
   "source": []
  }
 ],
 "metadata": {
  "kernelspec": {
   "display_name": "Python 3",
   "language": "python",
   "name": "python3"
  },
  "language_info": {
   "codemirror_mode": {
    "name": "ipython",
    "version": 3
   },
   "file_extension": ".py",
   "mimetype": "text/x-python",
   "name": "python",
   "nbconvert_exporter": "python",
   "pygments_lexer": "ipython3",
   "version": "3.4.4"
  }
 },
 "nbformat": 4,
 "nbformat_minor": 0
}
