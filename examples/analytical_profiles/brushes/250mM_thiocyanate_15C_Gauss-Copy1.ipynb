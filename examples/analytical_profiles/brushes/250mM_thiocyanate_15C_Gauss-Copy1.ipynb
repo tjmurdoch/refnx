{
 "cells": [
  {
   "cell_type": "code",
   "execution_count": 1,
   "metadata": {
    "collapsed": false
   },
   "outputs": [],
   "source": [
    "%load_ext autoreload\n",
    "%autoreload 2"
   ]
  },
  {
   "cell_type": "code",
   "execution_count": 2,
   "metadata": {
    "collapsed": false
   },
   "outputs": [],
   "source": [
    "from brush import BrushGauss\n",
    "import numpy as np\n",
    "from lmfit import Parameters, printfuncs\n",
    "from refnx.analysis import Transform, CurveFitter\n",
    "from refnx.dataset import ReflectDataset\n",
    "%matplotlib inline\n",
    "import matplotlib.pyplot as plt"
   ]
  },
  {
   "cell_type": "code",
   "execution_count": 3,
   "metadata": {
    "collapsed": false
   },
   "outputs": [],
   "source": [
    "# # load the dataset\n",
    "# Q, R, dR, dQ = np.loadtxt('100mMSCN20.txt', unpack=True)\n",
    "# data = tuple((Q.tolist(), R.tolist(), dR.tolist(), dQ.tolist()))\n",
    "# #NB d = ReflectDataset('example.txt') work if reduction done in refnx\n",
    "# d = ReflectDataset(data)\n",
    "d = ReflectDataset('c_PLP0026077.dat')"
   ]
  },
  {
   "cell_type": "code",
   "execution_count": 4,
   "metadata": {
    "collapsed": true
   },
   "outputs": [],
   "source": [
    "t = Transform('logY').transform"
   ]
  },
  {
   "cell_type": "code",
   "execution_count": 5,
   "metadata": {
    "collapsed": false
   },
   "outputs": [],
   "source": [
    "# Transform the data to log R\n",
    "d.y, d.y_err = t(d.x, d.y, d.y_err)"
   ]
  },
  {
   "cell_type": "code",
   "execution_count": 6,
   "metadata": {
    "collapsed": false
   },
   "outputs": [],
   "source": [
    "#Initialise BushGauss Class\n",
    "a = BrushGauss(0.96, 1, n_slices=50, dq=8.85, transform=t)"
   ]
  },
  {
   "cell_type": "code",
   "execution_count": 7,
   "metadata": {
    "collapsed": false
   },
   "outputs": [
    {
     "data": {
      "text/plain": [
       "['scale',\n",
       " 'bkg',\n",
       " 'SLD_super',\n",
       " 'SLD_sub',\n",
       " 'thickness_SiO2',\n",
       " 'SLD_SiO2',\n",
       " 'roughness_SiO2',\n",
       " 'roughness_backing',\n",
       " 'phi_init',\n",
       " 'thickness_tail',\n",
       " 'roughness_tail2int',\n",
       " 'thickness_1',\n",
       " 'phi_1',\n",
       " 'roughness_1']"
      ]
     },
     "execution_count": 7,
     "metadata": {},
     "output_type": "execute_result"
    }
   ],
   "source": [
    "#List parameter names\n",
    "a.parameter_names()"
   ]
  },
  {
   "cell_type": "code",
   "execution_count": 8,
   "metadata": {
    "collapsed": false
   },
   "outputs": [],
   "source": [
    "#Set up values parameters object and fill with appropriate values\n",
    "P = Parameters()\n",
    "\n",
    "vals = [0.965, 1.55e-7, 2.07, 6.165, 16, 3.83, 3, 5, 0.228, 577.15, 6.9,\n",
    "            16.99, 0.976, 2, 1]\n",
    "lbs = [0.93, 1e-7, 2.06, 5.8, 5, 3, 2.9, 2, 0.006, 400,3,\n",
    "            2, 0.1, 2 ]\n",
    "ubs = [0.97, 1e-6, 2.08, 6.36, 25, 4, 3.6, 8, 0.5, 800,10,\n",
    "            20, 1.0, 5]\n",
    "varies = np.array([True] * 17, bool)\n",
    "varies[[0, 2, 4, 5, 6, 7]] = False\n",
    "\n",
    "for name, val, vary, lb, ub in zip(a.parameter_names(), vals, varies, lbs, ubs):\n",
    "    P.add(name, val, vary, lb, ub)"
   ]
  },
  {
   "cell_type": "code",
   "execution_count": 9,
   "metadata": {
    "collapsed": false
   },
   "outputs": [],
   "source": [
    "#Generate slab parameters and check that appropriate number generated\n",
    "slab_pars = a.to_slab(P)\n",
    "assert(slab_pars[0] * 4 + 8 == np.size(slab_pars))"
   ]
  },
  {
   "cell_type": "code",
   "execution_count": 10,
   "metadata": {
    "collapsed": false
   },
   "outputs": [
    {
     "data": {
      "text/plain": [
       "[<matplotlib.lines.Line2D at 0x9196a20>]"
      ]
     },
     "execution_count": 10,
     "metadata": {},
     "output_type": "execute_result"
    },
    {
     "data": {
      "image/png": "[encoded data removed]",
      "text/plain": [
       "<matplotlib.figure.Figure at 0x9122a90>"
      ]
     },
     "metadata": {},
     "output_type": "display_data"
    }
   ],
   "source": [
    "#Generate and plot SLD profile of initial parameters\n",
    "z1, rho = a.sld_profile(P)\n",
    "plt.plot(z1,rho)"
   ]
  },
  {
   "cell_type": "code",
   "execution_count": 11,
   "metadata": {
    "collapsed": false
   },
   "outputs": [
    {
     "data": {
      "text/plain": [
       "[<matplotlib.lines.Line2D at 0xa9ee780>]"
      ]
     },
     "execution_count": 11,
     "metadata": {},
     "output_type": "execute_result"
    },
    {
     "data": {
      "image/png": "[encoded data removed]",
      "text/plain": [
       "<matplotlib.figure.Figure at 0x9122a58>"
      ]
     },
     "metadata": {},
     "output_type": "display_data"
    }
   ],
   "source": [
    "#Generate and plot volume fraction profile of initial parameters\n",
    "z2, phi = a.vol_fraction(P)\n",
    "plt.plot(z2,phi)"
   ]
  },
  {
   "cell_type": "code",
   "execution_count": 12,
   "metadata": {
    "collapsed": false
   },
   "outputs": [
    {
     "name": "stdout",
     "output_type": "stream",
     "text": [
      "132.127054071\n"
     ]
    }
   ],
   "source": [
    "#Calculate and print area of intitial profile\n",
    "area = a.vfp_area(P)\n",
    "print(area)"
   ]
  },
  {
   "cell_type": "code",
   "execution_count": 13,
   "metadata": {
    "collapsed": false
   },
   "outputs": [
    {
     "data": {
      "text/plain": [
       "[<matplotlib.lines.Line2D at 0xaa577b8>]"
      ]
     },
     "execution_count": 13,
     "metadata": {},
     "output_type": "execute_result"
    },
    {
     "data": {
      "image/png": "[encoded data removed]",
      "text/plain": [
       "<matplotlib.figure.Figure at 0xa9fe2b0>"
      ]
     },
     "metadata": {},
     "output_type": "display_data"
    }
   ],
   "source": [
    "#Calculate and plot simulated reflectivity\n",
    "q = np.linspace(0.01, 0.3, 1000)\n",
    "ref = a.model(q, P)\n",
    "plt.plot(q, ref)\n",
    "# plt.xscale('log')"
   ]
  },
  {
   "cell_type": "code",
   "execution_count": 14,
   "metadata": {
    "collapsed": false
   },
   "outputs": [],
   "source": [
    "# Set up curve-fitting object with model, data and parameters\n",
    "b = CurveFitter(a, d, P)"
   ]
  },
  {
   "cell_type": "code",
   "execution_count": 15,
   "metadata": {
    "collapsed": false
   },
   "outputs": [],
   "source": [
    "#Fit data\n",
    "c = b.fit('differential_evolution',tol=0.001)"
   ]
  },
  {
   "cell_type": "code",
   "execution_count": 16,
   "metadata": {
    "collapsed": false
   },
   "outputs": [
    {
     "name": "stdout",
     "output_type": "stream",
     "text": [
      "[[Fit Statistics]]\n",
      "    # function evals   = 10033\n",
      "    # data points      = 121\n",
      "    # variables        = 8\n",
      "    chi-square         = 323.282\n",
      "    reduced chi-square = 2.861\n",
      "    Akaike info crit   = 143.187\n",
      "    Bayesian info crit = 165.554\n",
      "[[Variables]]\n",
      "    scale:                0.965 (fixed)\n",
      "    bkg:                  4.7488e-07 (init= 1.55e-07)\n",
      "    SLD_super:            2.07 (fixed)\n",
      "    SLD_sub:              6.19224793 (init= 6.165)\n",
      "    thickness_SiO2:       16 (fixed)\n",
      "    SLD_SiO2:             3.83 (fixed)\n",
      "    roughness_SiO2:       3 (fixed)\n",
      "    roughness_backing:    5 (fixed)\n",
      "    phi_init:             0.23380778 (init= 0.228)\n",
      "    thickness_tail:       800        (init= 577.15)\n",
      "    roughness_tail2int:   4.89009133 (init= 6.9)\n",
      "    thickness_1:          18.2807224 (init= 16.99)\n",
      "    phi_1:                0.92524011 (init= 0.976)\n",
      "    roughness_1:          5          (init= 2)\n",
      "[[Correlations]] (unreported correlations are <  0.100)\n"
     ]
    }
   ],
   "source": [
    "#Pritn Fit Report\n",
    "print(printfuncs.fit_report(c))"
   ]
  },
  {
   "cell_type": "code",
   "execution_count": 17,
   "metadata": {
    "collapsed": false
   },
   "outputs": [
    {
     "data": {
      "text/plain": [
       "<matplotlib.legend.Legend at 0xaacb978>"
      ]
     },
     "execution_count": 17,
     "metadata": {},
     "output_type": "execute_result"
    },
    {
     "data": {
      "image/png": "[encoded data removed]",
      "text/plain": [
       "<matplotlib.figure.Figure at 0xaa28cf8>"
      ]
     },
     "metadata": {},
     "output_type": "display_data"
    }
   ],
   "source": [
    "#Plot fit and original data\n",
    "fit_ref = a.model(d.x,c.params)\n",
    "plt.plot(d.x,d.y,'o',label='data')\n",
    "plt.plot(d.x,fit_ref,'-',label='refnx')\n",
    "plt.plot(q,ref,'--',label='MOTOFIT')\n",
    "plt.legend()"
   ]
  },
  {
   "cell_type": "code",
   "execution_count": 18,
   "metadata": {
    "collapsed": false
   },
   "outputs": [
    {
     "data": {
      "text/plain": [
       "Parameters([('scale',\n",
       "             <Parameter 'scale', value=0.965 (fixed), bounds=[0.93:0.97]>),\n",
       "            ('bkg',\n",
       "             <Parameter 'bkg', 4.7488004906108679e-07, bounds=[1e-07:1e-06]>),\n",
       "            ('SLD_super',\n",
       "             <Parameter 'SLD_super', value=2.07 (fixed), bounds=[2.06:2.08]>),\n",
       "            ('SLD_sub',\n",
       "             <Parameter 'SLD_sub', 6.1922479376428061, bounds=[5.8:6.36]>),\n",
       "            ('thickness_SiO2',\n",
       "             <Parameter 'thickness_SiO2', value=16 (fixed), bounds=[5:25]>),\n",
       "            ('SLD_SiO2',\n",
       "             <Parameter 'SLD_SiO2', value=3.83 (fixed), bounds=[3:4]>),\n",
       "            ('roughness_SiO2',\n",
       "             <Parameter 'roughness_SiO2', value=3 (fixed), bounds=[2.9:3.6]>),\n",
       "            ('roughness_backing',\n",
       "             <Parameter 'roughness_backing', value=5 (fixed), bounds=[2:8]>),\n",
       "            ('phi_init',\n",
       "             <Parameter 'phi_init', 0.23380778050452922, bounds=[0.006:0.5]>),\n",
       "            ('thickness_tail',\n",
       "             <Parameter 'thickness_tail', 800.0, bounds=[400:800]>),\n",
       "            ('roughness_tail2int',\n",
       "             <Parameter 'roughness_tail2int', 4.890091337503403, bounds=[3:10]>),\n",
       "            ('thickness_1',\n",
       "             <Parameter 'thickness_1', 18.280722490961896, bounds=[2:20]>),\n",
       "            ('phi_1',\n",
       "             <Parameter 'phi_1', 0.92524011687272933, bounds=[0.1:1.0]>),\n",
       "            ('roughness_1', <Parameter 'roughness_1', 5.0, bounds=[2:5]>)])"
      ]
     },
     "execution_count": 18,
     "metadata": {},
     "output_type": "execute_result"
    }
   ],
   "source": [
    "#Check parameters\n",
    "c.params"
   ]
  },
  {
   "cell_type": "code",
   "execution_count": 19,
   "metadata": {
    "collapsed": false
   },
   "outputs": [
    {
     "data": {
      "text/plain": [
       "180.81518684165778"
      ]
     },
     "execution_count": 19,
     "metadata": {},
     "output_type": "execute_result"
    }
   ],
   "source": [
    "#Check integrated area\n",
    "a.vfp_area(c.params)"
   ]
  },
  {
   "cell_type": "code",
   "execution_count": 20,
   "metadata": {
    "collapsed": false
   },
   "outputs": [
    {
     "data": {
      "text/plain": [
       "<matplotlib.legend.Legend at 0xab5d978>"
      ]
     },
     "execution_count": 20,
     "metadata": {},
     "output_type": "execute_result"
    },
    {
     "data": {
      "image/png": "[encoded data removed]",
      "text/plain": [
       "<matplotlib.figure.Figure at 0xaafaf60>"
      ]
     },
     "metadata": {},
     "output_type": "display_data"
    }
   ],
   "source": [
    "#Plot volume fraction profile and compare to initial parameters from MOTOFIT\n",
    "z, rho = a.vol_fraction(c.params)\n",
    "plt.plot(z,rho,label='refnx')\n",
    "plt.plot(z2,phi,label='motofit')\n",
    "plt.legend()"
   ]
  },
  {
   "cell_type": "code",
   "execution_count": 27,
   "metadata": {
    "collapsed": false
   },
   "outputs": [
    {
     "name": "stderr",
     "output_type": "stream",
     "text": [
      "C:\\Miniconda3\\envs\\testenv\\lib\\site-packages\\emcee\\ptsampler.py:278: VisibleDeprecationWarning: using a non-integer number instead of an integer will result in an error in the future\n",
      "  self.dim))\n",
      "C:\\Miniconda3\\envs\\testenv\\lib\\site-packages\\emcee\\ptsampler.py:279: VisibleDeprecationWarning: using a non-integer number instead of an integer will result in an error in the future\n",
      "  self._lnprob = np.zeros((self.ntemps, self.nwalkers, nsave))\n",
      "C:\\Miniconda3\\envs\\testenv\\lib\\site-packages\\emcee\\ptsampler.py:281: VisibleDeprecationWarning: using a non-integer number instead of an integer will result in an error in the future\n",
      "  nsave))\n",
      "C:\\Miniconda3\\envs\\testenv\\lib\\site-packages\\emcee\\ptsampler.py:308: VisibleDeprecationWarning: using a non-integer number instead of an integer will result in an error in the future\n",
      "  zs = np.exp(np.random.uniform(low=-np.log(self.a), high=np.log(self.a), size=(self.ntemps, self.nwalkers/2)))\n",
      "C:\\Miniconda3\\envs\\testenv\\lib\\site-packages\\emcee\\ptsampler.py:310: VisibleDeprecationWarning: using a non-integer number instead of an integer will result in an error in the future\n",
      "  qs = np.zeros((self.ntemps, self.nwalkers/2, self.dim))\n",
      "C:\\Miniconda3\\envs\\testenv\\lib\\site-packages\\emcee\\ptsampler.py:313: VisibleDeprecationWarning: using a non-integer number instead of an integer will result in an error in the future\n",
      "  size=self.nwalkers / 2)\n",
      "C:\\Miniconda3\\envs\\testenv\\lib\\site-packages\\emcee\\ptsampler.py:315: VisibleDeprecationWarning: using a non-integer number instead of an integer will result in an error in the future\n",
      "  (self.nwalkers / 2, 1)) * (pupdate[k, :, :] -\n",
      "C:\\Miniconda3\\envs\\testenv\\lib\\site-packages\\emcee\\ptsampler.py:328: VisibleDeprecationWarning: using a non-integer number instead of an integer will result in an error in the future\n",
      "  (self.ntemps, self.nwalkers/2))\n",
      "C:\\Miniconda3\\envs\\testenv\\lib\\site-packages\\emcee\\ptsampler.py:330: VisibleDeprecationWarning: using a non-integer number instead of an integer will result in an error in the future\n",
      "  (self.ntemps, self.nwalkers/2))\n",
      "C:\\Miniconda3\\envs\\testenv\\lib\\site-packages\\emcee\\ptsampler.py:338: VisibleDeprecationWarning: using a non-integer number instead of an integer will result in an error in the future\n",
      "  self.nwalkers/2)))\n",
      "C:\\Miniconda3\\envs\\testenv\\lib\\site-packages\\emcee\\ptsampler.py:350: VisibleDeprecationWarning: using a non-integer number instead of an integer will result in an error in the future\n",
      "  accepts = accepts.reshape((self.ntemps, self.nwalkers/2))\n"
     ]
    }
   ],
   "source": [
    "diff = CurveFitter(a, d, c.params)\n",
    "e = diff.emcee(nwalkers=400, ntemps=10)"
   ]
  },
  {
   "cell_type": "code",
   "execution_count": 28,
   "metadata": {
    "collapsed": false
   },
   "outputs": [
    {
     "name": "stdout",
     "output_type": "stream",
     "text": [
      "[[Fit Statistics]]\n",
      "    # function evals   = 0\n",
      "    # data points      = unknown\n",
      "    # variables        = 8\n",
      "    chi-square         = unknown\n",
      "    reduced chi-square = unknown\n",
      "    Akaike info crit   = unknown\n",
      "    Bayesian info crit = unknown\n",
      "[[Variables]]\n",
      "    scale:                0.965 (fixed)\n",
      "    bkg:                  4.7488e-07 +/- 1.07e-08 (2.25%) (init= 4.7488e-07)\n",
      "    SLD_super:            2.07 (fixed)\n",
      "    SLD_sub:              6.19195149 +/- 0.005192 (0.08%) (init= 6.192248)\n",
      "    thickness_SiO2:       16 (fixed)\n",
      "    SLD_SiO2:             3.83 (fixed)\n",
      "    roughness_SiO2:       3 (fixed)\n",
      "    roughness_backing:    5 (fixed)\n",
      "    phi_init:             0.23380001 +/- 0.000863 (0.37%) (init= 0.2338078)\n",
      "    thickness_tail:       799.963568 +/- 7.579800 (0.95%) (init= 800)\n",
      "    roughness_tail2int:   4.89023962 +/- 0.150991 (3.09%) (init= 4.890091)\n",
      "    thickness_1:          18.2802938 +/- 0.129729 (0.71%) (init= 18.28072)\n",
      "    phi_1:                0.92525653 +/- 0.004934 (0.53%) (init= 0.9252401)\n",
      "    roughness_1:          4.99977739 +/- 0.105504 (2.11%) (init= 5)\n",
      "[[Correlations]] (unreported correlations are <  0.100)\n",
      "    C(thickness_1, phi_1)        = -0.930 \n",
      "    C(roughness_tail2int, phi_1)  =  0.776 \n",
      "    C(SLD_sub, thickness_tail)   =  0.750 \n",
      "    C(SLD_sub, phi_init)         =  0.744 \n",
      "    C(roughness_tail2int, roughness_1)  = -0.638 \n",
      "    C(roughness_tail2int, thickness_1)  = -0.621 \n",
      "    C(thickness_tail, roughness_1)  =  0.504 \n",
      "    C(phi_init, thickness_tail)  =  0.500 \n",
      "    C(SLD_sub, roughness_1)      =  0.477 \n",
      "    C(phi_init, roughness_1)     =  0.440 \n",
      "    C(thickness_1, roughness_1)  =  0.426 \n",
      "    C(phi_1, roughness_1)        = -0.392 \n",
      "    C(thickness_tail, roughness_tail2int)  = -0.357 \n",
      "    C(SLD_sub, roughness_tail2int)  = -0.330 \n",
      "    C(thickness_tail, thickness_1)  =  0.287 \n",
      "    C(thickness_tail, phi_1)     = -0.274 \n",
      "    C(phi_init, roughness_tail2int)  = -0.232 \n",
      "    C(SLD_sub, thickness_1)      =  0.221 \n",
      "    C(SLD_sub, phi_1)            = -0.207 \n",
      "    C(bkg, roughness_tail2int)   =  0.137 \n",
      "    C(bkg, thickness_1)          =  0.134 \n",
      "    C(bkg, phi_init)             = -0.104 \n",
      "    C(bkg, roughness_1)          =  0.102 \n"
     ]
    }
   ],
   "source": [
    "#Print Fit Report\n",
    "print(printfuncs.fit_report(e))"
   ]
  },
  {
   "cell_type": "code",
   "execution_count": 23,
   "metadata": {
    "collapsed": true
   },
   "outputs": [],
   "source": [
    "def pgen(parameters, flatchain, idx=None):\n",
    "    # generator for all the different parameters from a flatchain.\n",
    "    if idx is None:\n",
    "        idx = range(np.size(flatchain, 0))\n",
    "    for i in idx:\n",
    "        vec = flatchain.iloc[i]\n",
    "        for var_name in flatchain.columns:\n",
    "            parameters[var_name].value = flatchain.iloc[i][var_name]\n",
    "        yield parameters"
   ]
  },
  {
   "cell_type": "code",
   "execution_count": 24,
   "metadata": {
    "collapsed": false
   },
   "outputs": [
    {
     "data": {
      "image/png": "[encoded data removed]",
      "text/plain": [
       "<matplotlib.figure.Figure at 0xaaf75c0>"
      ]
     },
     "metadata": {},
     "output_type": "display_data"
    }
   ],
   "source": [
    "for pars in pgen(e.params,\n",
    "                 e.flatchain,\n",
    "                 idx = np.random.choice(len(e.flatchain), size=500, replace=False)):\n",
    "    plt.plot(d.x,a.model(d.x,pars), color=\"k\", alpha=0.05)\n"
   ]
  },
  {
   "cell_type": "code",
   "execution_count": 26,
   "metadata": {
    "collapsed": false
   },
   "outputs": [
    {
     "data": {
      "text/plain": [
       "<matplotlib.legend.Legend at 0xca71710>"
      ]
     },
     "execution_count": 26,
     "metadata": {},
     "output_type": "execute_result"
    },
    {
     "data": {
      "image/png": "[encoded data removed]",
      "text/plain": [
       "<matplotlib.figure.Figure at 0xca71898>"
      ]
     },
     "metadata": {},
     "output_type": "display_data"
    }
   ],
   "source": [
    "for pars in pgen(e.params,\n",
    "                 e.flatchain,\n",
    "                 idx = np.random.choice(len(e.flatchain), size=500, replace=False)):\n",
    "    z, phi = a.vol_fraction(pars)\n",
    "    plt.plot(z,phi, color=\"k\", alpha=0.05)\n",
    "z, rho = a.vol_fraction(c.params)\n",
    "plt.plot(z,rho,label='refnx')\n",
    "z2, phi = a.vol_fraction(P)\n",
    "plt.plot(z2,phi,label='motofit')\n",
    "plt.legend()"
   ]
  },
  {
   "cell_type": "code",
   "execution_count": null,
   "metadata": {
    "collapsed": true
   },
   "outputs": [],
   "source": []
  }
 ],
 "metadata": {
  "kernelspec": {
   "display_name": "Python 3",
   "language": "python",
   "name": "python3"
  },
  "language_info": {
   "codemirror_mode": {
    "name": "ipython",
    "version": 3
   },
   "file_extension": ".py",
   "mimetype": "text/x-python",
   "name": "python",
   "nbconvert_exporter": "python",
   "pygments_lexer": "ipython3",
   "version": "3.4.4"
  }
 },
 "nbformat": 4,
 "nbformat_minor": 0
}
