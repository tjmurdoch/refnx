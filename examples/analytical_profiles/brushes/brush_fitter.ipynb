{
 "cells": [
  {
   "cell_type": "code",
   "execution_count": 22,
   "metadata": {
    "collapsed": false
   },
   "outputs": [
    {
     "name": "stdout",
     "output_type": "stream",
     "text": [
      "The autoreload extension is already loaded. To reload it, use:\n",
      "  %reload_ext autoreload\n"
     ]
    }
   ],
   "source": [
    "%load_ext autoreload\n",
    "%autoreload 2"
   ]
  },
  {
   "cell_type": "code",
   "execution_count": 53,
   "metadata": {
    "collapsed": false
   },
   "outputs": [],
   "source": [
    "from brush import BrushPara\n",
    "import numpy as np\n",
    "from lmfit import Parameters, printfuncs\n",
    "from refnx.analysis import Transform, CurveFitter\n",
    "from refnx.dataset import ReflectDataset\n",
    "%matplotlib inline\n",
    "import matplotlib.pyplot as plt"
   ]
  },
  {
   "cell_type": "code",
   "execution_count": 54,
   "metadata": {
    "collapsed": true
   },
   "outputs": [],
   "source": [
    "# load the dataset\n",
    "\n",
    "d = ReflectDataset('c_PLP0026107.dat')"
   ]
  },
  {
   "cell_type": "code",
   "execution_count": 55,
   "metadata": {
    "collapsed": true
   },
   "outputs": [],
   "source": [
    "t = Transform('logY').transform"
   ]
  },
  {
   "cell_type": "code",
   "execution_count": 56,
   "metadata": {
    "collapsed": false
   },
   "outputs": [],
   "source": [
    "# Transform the data to log R\n",
    "d.y, d.y_err = t(d.x, d.y, d.y_err)"
   ]
  },
  {
   "cell_type": "code",
   "execution_count": 57,
   "metadata": {
    "collapsed": false
   },
   "outputs": [],
   "source": [
    "a = BrushPara(0.46, 3, n_slices=25, dq=9, transform=t)"
   ]
  },
  {
   "cell_type": "code",
   "execution_count": 58,
   "metadata": {
    "collapsed": false
   },
   "outputs": [
    {
     "data": {
      "text/plain": [
       "['scale',\n",
       " 'bkg',\n",
       " 'SLD_super',\n",
       " 'SLD_sub',\n",
       " 'thickness_SiO2',\n",
       " 'SLD_SiO2',\n",
       " 'roughness_SiO2',\n",
       " 'roughness_backing',\n",
       " 'phi_init',\n",
       " 'thickness_tail',\n",
       " 'roughness_tail2int',\n",
       " 'thickness_1',\n",
       " 'phi_1',\n",
       " 'roughness_1',\n",
       " 'thickness_2',\n",
       " 'phi_2',\n",
       " 'roughness_2',\n",
       " 'thickness_3',\n",
       " 'phi_3',\n",
       " 'roughness_3']"
      ]
     },
     "execution_count": 58,
     "metadata": {},
     "output_type": "execute_result"
    }
   ],
   "source": [
    "a.parameter_names()"
   ]
  },
  {
   "cell_type": "code",
   "execution_count": 59,
   "metadata": {
    "collapsed": false
   },
   "outputs": [],
   "source": [
    "vals = [1, 1e-6, 2.07, 6.11, 8.8, 3.25, 3.5,10, 0.1, 1000, 4,\n",
    "            28, 0.95, 2, 50, 0.85, 2, 100, 0.2, 20]\n",
    "lbs = [0.8, 1e-7, 2.06, 6.10, 8.7, 3.24, 3.4, 2, 0.006, 50,3,\n",
    "            10, 0.1, 2, 10, 0.1, 2, 10, 0.1, 2]\n",
    "ubs = [1.1, 1e-6, 2.08, 6.36, 8.9, 3.26, 3.6, 10, 0.5, 500,8,\n",
    "            50, 0.8, 10, 50, 0.8, 10, 50, 0.8, 10]\n",
    "varies = np.array([True] * 20, bool)\n",
    "varies[[2,3,4,5,6]] = False"
   ]
  },
  {
   "cell_type": "code",
   "execution_count": 60,
   "metadata": {
    "collapsed": true
   },
   "outputs": [],
   "source": [
    "P = Parameters()"
   ]
  },
  {
   "cell_type": "code",
   "execution_count": 61,
   "metadata": {
    "collapsed": false
   },
   "outputs": [],
   "source": [
    "for name, val, vary, lb, ub in zip(a.parameter_names(), vals, varies, lbs, ubs):\n",
    "    P.add(name, val, vary, lb, ub)"
   ]
  },
  {
   "cell_type": "code",
   "execution_count": 62,
   "metadata": {
    "collapsed": false
   },
   "outputs": [],
   "source": [
    "slab_pars = a.to_slab(P)"
   ]
  },
  {
   "cell_type": "code",
   "execution_count": 63,
   "metadata": {
    "collapsed": false
   },
   "outputs": [],
   "source": [
    "assert(slab_pars[0] * 4 + 8 == np.size(slab_pars))"
   ]
  },
  {
   "cell_type": "code",
   "execution_count": 64,
   "metadata": {
    "collapsed": false,
    "scrolled": true
   },
   "outputs": [
    {
     "data": {
      "text/plain": [
       "['__call__',\n",
       " '__class__',\n",
       " '__delattr__',\n",
       " '__dict__',\n",
       " '__dir__',\n",
       " '__doc__',\n",
       " '__eq__',\n",
       " '__format__',\n",
       " '__ge__',\n",
       " '__getattribute__',\n",
       " '__gt__',\n",
       " '__hash__',\n",
       " '__init__',\n",
       " '__le__',\n",
       " '__lt__',\n",
       " '__module__',\n",
       " '__ne__',\n",
       " '__new__',\n",
       " '__reduce__',\n",
       " '__reduce_ex__',\n",
       " '__repr__',\n",
       " '__setattr__',\n",
       " '__sizeof__',\n",
       " '__str__',\n",
       " '__subclasshook__',\n",
       " '__weakref__',\n",
       " 'callback',\n",
       " 'dq',\n",
       " 'gen_par',\n",
       " 'model',\n",
       " 'moment',\n",
       " 'n_interior',\n",
       " 'n_slices',\n",
       " 'parallel',\n",
       " 'parameter_names',\n",
       " 'quad_order',\n",
       " 'set_dq',\n",
       " 'sld_poly',\n",
       " 'sld_profile',\n",
       " 'tail_par',\n",
       " 'to_slab',\n",
       " 'transform',\n",
       " 'vfp_area',\n",
       " 'vol_cut',\n",
       " 'vol_fraction']"
      ]
     },
     "execution_count": 64,
     "metadata": {},
     "output_type": "execute_result"
    }
   ],
   "source": [
    "dir(a)"
   ]
  },
  {
   "cell_type": "code",
   "execution_count": 35,
   "metadata": {
    "collapsed": false
   },
   "outputs": [],
   "source": [
    "z, rho = a.sld_profile(P)\n",
    "z2, rho2 = a.vol_fraction(P)"
   ]
  },
  {
   "cell_type": "code",
   "execution_count": 65,
   "metadata": {
    "collapsed": false
   },
   "outputs": [
    {
     "data": {
      "text/plain": [
       "<Parameter 'roughness_1', 2, bounds=[2:10]>"
      ]
     },
     "execution_count": 65,
     "metadata": {},
     "output_type": "execute_result"
    }
   ],
   "source": [
    "P['roughness_1']"
   ]
  },
  {
   "cell_type": "code",
   "execution_count": 66,
   "metadata": {
    "collapsed": false
   },
   "outputs": [
    {
     "data": {
      "text/plain": [
       "[<matplotlib.lines.Line2D at 0xab497b8>]"
      ]
     },
     "execution_count": 66,
     "metadata": {},
     "output_type": "execute_result"
    },
    {
     "data": {
      "image/png": "[encoded data removed]",
      "text/plain": [
       "<matplotlib.figure.Figure at 0xab9ee10>"
      ]
     },
     "metadata": {},
     "output_type": "display_data"
    }
   ],
   "source": [
    "plt.plot(z2,rho2)"
   ]
  },
  {
   "cell_type": "code",
   "execution_count": 67,
   "metadata": {
    "collapsed": false
   },
   "outputs": [
    {
     "name": "stdout",
     "output_type": "stream",
     "text": [
      "105.506996585\n"
     ]
    }
   ],
   "source": [
    "area = a.vfp_area(P)\n",
    "print(area)"
   ]
  },
  {
   "cell_type": "code",
   "execution_count": 68,
   "metadata": {
    "collapsed": false
   },
   "outputs": [],
   "source": [
    "q = np.linspace(0.01, 0.3, 1000)\n",
    "ref = a.model(q, P)"
   ]
  },
  {
   "cell_type": "code",
   "execution_count": 40,
   "metadata": {
    "collapsed": false
   },
   "outputs": [
    {
     "data": {
      "text/plain": [
       "[<matplotlib.lines.Line2D at 0xaa9bbe0>]"
      ]
     },
     "execution_count": 40,
     "metadata": {},
     "output_type": "execute_result"
    },
    {
     "data": {
      "image/png": "[encoded data removed]",
      "text/plain": [
       "<matplotlib.figure.Figure at 0xaa55f98>"
      ]
     },
     "metadata": {},
     "output_type": "display_data"
    }
   ],
   "source": [
    "plt.plot(q, ref)\n",
    "# plt.xscale('log')"
   ]
  },
  {
   "cell_type": "code",
   "execution_count": 69,
   "metadata": {
    "collapsed": false
   },
   "outputs": [],
   "source": [
    "# b = CurveFitter(a, (q, ref), P)\n",
    "# you can give CurveFitter a dataset\n",
    "b = CurveFitter(a, d, P)"
   ]
  },
  {
   "cell_type": "code",
   "execution_count": 70,
   "metadata": {
    "collapsed": false
   },
   "outputs": [],
   "source": [
    "c = b.fit('differential_evolution')"
   ]
  },
  {
   "cell_type": "code",
   "execution_count": 71,
   "metadata": {
    "collapsed": false
   },
   "outputs": [
    {
     "name": "stdout",
     "output_type": "stream",
     "text": [
      "[[Fit Statistics]]\n",
      "    # function evals   = 225562\n",
      "    # data points      = 122\n",
      "    # variables        = 15\n",
      "    chi-square         = nan\n",
      "    reduced chi-square = nan\n",
      "    Akaike info crit   = nan\n",
      "    Bayesian info crit = nan\n",
      "[[Variables]]\n",
      "    scale:                0.90916301 (init= 1)\n",
      "    bkg:                  9.9812e-07 (init= 1e-06)\n",
      "    SLD_super:            2.07 (fixed)\n",
      "    SLD_sub:              6.11 (fixed)\n",
      "    thickness_SiO2:       8.8 (fixed)\n",
      "    SLD_SiO2:             3.25 (fixed)\n",
      "    roughness_SiO2:       3.5 (fixed)\n",
      "    roughness_backing:    2.75298844 (init= 10)\n",
      "    phi_init:             0.26683989 (init= 0.1)\n",
      "    thickness_tail:       419.893514 (init= 500)\n",
      "    roughness_tail2int:   3.81348052 (init= 4)\n",
      "    thickness_1:          11.6751692 (init= 28)\n",
      "    phi_1:                0.24935195 (init= 0.8)\n",
      "    roughness_1:          2.31963682 (init= 2)\n",
      "    thickness_2:          13.1522562 (init= 50)\n",
      "    phi_2:                0.47642164 (init= 0.8)\n",
      "    roughness_2:          3.77092128 (init= 2)\n",
      "    thickness_3:          12.6863658 (init= 50)\n",
      "    phi_3:                0.55978348 (init= 0.2)\n",
      "    roughness_3:          9.09686247 (init= 10)\n",
      "[[Correlations]] (unreported correlations are <  0.100)\n"
     ]
    }
   ],
   "source": [
    "print(printfuncs.fit_report(c))"
   ]
  },
  {
   "cell_type": "code",
   "execution_count": 72,
   "metadata": {
    "collapsed": false
   },
   "outputs": [
    {
     "data": {
      "text/plain": [
       "[<matplotlib.lines.Line2D at 0xac50a20>,\n",
       " <matplotlib.lines.Line2D at 0xacdefd0>]"
      ]
     },
     "execution_count": 72,
     "metadata": {},
     "output_type": "execute_result"
    },
    {
     "data": {
      "image/png": "[encoded data removed]",
      "text/plain": [
       "<matplotlib.figure.Figure at 0xac41320>"
      ]
     },
     "metadata": {},
     "output_type": "display_data"
    }
   ],
   "source": [
    "fit_ref = a.model(d.x,c.params)\n",
    "plt.plot(d.x,d.y,'o',d.x,fit_ref,'-')"
   ]
  },
  {
   "cell_type": "code",
   "execution_count": 45,
   "metadata": {
    "collapsed": false
   },
   "outputs": [
    {
     "data": {
      "text/plain": [
       "Parameters([('scale',\n",
       "             <Parameter 'scale', 1.0740937341933936, bounds=[0.8:1.1]>),\n",
       "            ('bkg',\n",
       "             <Parameter 'bkg', 9.9999999999999995e-07, bounds=[1e-07:1e-06]>),\n",
       "            ('SLD_super',\n",
       "             <Parameter 'SLD_super', value=2.07 (fixed), bounds=[2.06:2.08]>),\n",
       "            ('SLD_sub',\n",
       "             <Parameter 'SLD_sub', value=6.11 (fixed), bounds=[6.1:6.36]>),\n",
       "            ('thickness_SiO2',\n",
       "             <Parameter 'thickness_SiO2', value=8.8 (fixed), bounds=[8.7:8.9]>),\n",
       "            ('SLD_SiO2',\n",
       "             <Parameter 'SLD_SiO2', value=3.25 (fixed), bounds=[3.24:3.26]>),\n",
       "            ('roughness_SiO2',\n",
       "             <Parameter 'roughness_SiO2', value=3.5 (fixed), bounds=[3.4:3.6]>),\n",
       "            ('roughness_backing',\n",
       "             <Parameter 'roughness_backing', 5.3067834868580075, bounds=[2:10]>),\n",
       "            ('phi_init',\n",
       "             <Parameter 'phi_init', 0.019841064866851603, bounds=[0.006:0.5]>),\n",
       "            ('thickness_tail',\n",
       "             <Parameter 'thickness_tail', 500.0, bounds=[50:500]>),\n",
       "            ('roughness_tail2int',\n",
       "             <Parameter 'roughness_tail2int', 3.0, bounds=[3:8]>),\n",
       "            ('thickness_1',\n",
       "             <Parameter 'thickness_1', 14.34967032081445, bounds=[10:50]>),\n",
       "            ('phi_1',\n",
       "             <Parameter 'phi_1', 0.80000000000000004, bounds=[0.1:0.8]>),\n",
       "            ('roughness_1',\n",
       "             <Parameter 'roughness_1', 9.7576808897655667, bounds=[2:10]>),\n",
       "            ('thickness_2', <Parameter 'thickness_2', 50.0, bounds=[10:50]>),\n",
       "            ('phi_2',\n",
       "             <Parameter 'phi_2', 0.66547685126313882, bounds=[0.1:0.8]>),\n",
       "            ('roughness_2', <Parameter 'roughness_2', 2.0, bounds=[2:10]>),\n",
       "            ('thickness_3', <Parameter 'thickness_3', 50.0, bounds=[10:50]>),\n",
       "            ('phi_3',\n",
       "             <Parameter 'phi_3', 0.80000000000000004, bounds=[0.1:0.8]>),\n",
       "            ('roughness_3', <Parameter 'roughness_3', 2.0, bounds=[2:10]>)])"
      ]
     },
     "execution_count": 45,
     "metadata": {},
     "output_type": "execute_result"
    }
   ],
   "source": [
    "c.params"
   ]
  },
  {
   "cell_type": "code",
   "execution_count": 47,
   "metadata": {
    "collapsed": false
   },
   "outputs": [
    {
     "data": {
      "text/plain": [
       "90.226280741445265"
      ]
     },
     "execution_count": 47,
     "metadata": {},
     "output_type": "execute_result"
    }
   ],
   "source": [
    "a.vfp_area(c.params)"
   ]
  },
  {
   "cell_type": "code",
   "execution_count": 48,
   "metadata": {
    "collapsed": false
   },
   "outputs": [
    {
     "data": {
      "text/plain": [
       "[<matplotlib.lines.Line2D at 0xab7ab00>]"
      ]
     },
     "execution_count": 48,
     "metadata": {},
     "output_type": "execute_result"
    },
    {
     "data": {
      "image/png": "[encoded data removed]",
      "text/plain": [
       "<matplotlib.figure.Figure at 0xab0fe80>"
      ]
     },
     "metadata": {},
     "output_type": "display_data"
    }
   ],
   "source": [
    "z, rho = a.vol_fraction(c.params)\n",
    "plt.plot(z,rho)"
   ]
  },
  {
   "cell_type": "code",
   "execution_count": null,
   "metadata": {
    "collapsed": true
   },
   "outputs": [],
   "source": []
  }
 ],
 "metadata": {
  "kernelspec": {
   "display_name": "Python 3",
   "language": "python",
   "name": "python3"
  },
  "language_info": {
   "codemirror_mode": {
    "name": "ipython",
    "version": 3
   },
   "file_extension": ".py",
   "mimetype": "text/x-python",
   "name": "python",
   "nbconvert_exporter": "python",
   "pygments_lexer": "ipython3",
   "version": "3.4.4"
  }
 },
 "nbformat": 4,
 "nbformat_minor": 0
}
