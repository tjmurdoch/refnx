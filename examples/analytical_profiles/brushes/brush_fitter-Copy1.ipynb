{
 "cells": [
  {
   "cell_type": "code",
   "execution_count": 16,
   "metadata": {
    "collapsed": false
   },
   "outputs": [],
   "source": [
    "%load_ext autoreload\n",
    "%autoreload 2"
   ]
  },
  {
   "cell_type": "code",
   "execution_count": 17,
   "metadata": {
    "collapsed": false
   },
   "outputs": [],
   "source": [
    "import brushGauss #Work out capitalisation\n",
    "import numpy as np\n",
    "from lmfit import Parameters, printfuncs\n",
    "from refnx.analysis import Transform, CurveFitter\n",
    "from refnx.dataset import ReflectDataset\n",
    "%matplotlib inline\n",
    "import matplotlib.pyplot as plt"
   ]
  },
  {
   "cell_type": "code",
   "execution_count": 18,
   "metadata": {
    "collapsed": true
   },
   "outputs": [],
   "source": [
    "# load the dataset\n",
    "# d = ReflectDataset('filename')"
   ]
  },
  {
   "cell_type": "code",
   "execution_count": 19,
   "metadata": {
    "collapsed": true
   },
   "outputs": [],
   "source": [
    "t = Transform('logY').transform"
   ]
  },
  {
   "cell_type": "code",
   "execution_count": 20,
   "metadata": {
    "collapsed": true
   },
   "outputs": [],
   "source": [
    "# Transform the data to log R\n",
    "# d.y, d.y_err = t(d.x, d.y, d.y_err)"
   ]
  },
  {
   "cell_type": "code",
   "execution_count": 21,
   "metadata": {
    "collapsed": false
   },
   "outputs": [],
   "source": [
    "a = brushGauss.BrushGauss(1, 3, n_slices=200, dq = 10.01, transform=t)"
   ]
  },
  {
   "cell_type": "code",
   "execution_count": null,
   "metadata": {
    "collapsed": true
   },
   "outputs": [],
   "source": []
  },
  {
   "cell_type": "code",
   "execution_count": 22,
   "metadata": {
    "collapsed": false
   },
   "outputs": [
    {
     "data": {
      "text/plain": [
       "['scale',\n",
       " 'bkg',\n",
       " 'SLD_super',\n",
       " 'SLD_sub',\n",
       " 'thickness_SiO2',\n",
       " 'SLD_SiO2',\n",
       " 'roughness_SiO2',\n",
       " 'SLD_poly',\n",
       " 'adsorbed_amount',\n",
       " 'roughness_backing',\n",
       " 'phi_init',\n",
       " 'tail_thickness',\n",
       " 'roughness_tail2int',\n",
       " 'thickness_1',\n",
       " 'phi_1',\n",
       " 'roughness_1',\n",
       " 'thickness_2',\n",
       " 'phi_2',\n",
       " 'roughness_2',\n",
       " 'thickness_3',\n",
       " 'phi_3',\n",
       " 'roughness_3']"
      ]
     },
     "execution_count": 22,
     "metadata": {},
     "output_type": "execute_result"
    }
   ],
   "source": [
    "a.parameter_names()"
   ]
  },
  {
   "cell_type": "code",
   "execution_count": 23,
   "metadata": {
    "collapsed": true
   },
   "outputs": [],
   "source": [
    "vals = [1, 1e-6, 2.07, 6.36, 25, 3.47, 5, 1, 1, 3, 0.3, 200, 3, 20, 0.5, 3, 20, 0.5, 3, 20, 0.5, 3]\n",
    "# lbs = []\n",
    "# ubs = []"
   ]
  },
  {
   "cell_type": "code",
   "execution_count": 24,
   "metadata": {
    "collapsed": true
   },
   "outputs": [],
   "source": [
    "P = Parameters()"
   ]
  },
  {
   "cell_type": "code",
   "execution_count": 25,
   "metadata": {
    "collapsed": false
   },
   "outputs": [],
   "source": [
    "for name, val in zip(a.parameter_names(), vals):\n",
    "    P.add(name, val, True)"
   ]
  },
  {
   "cell_type": "code",
   "execution_count": null,
   "metadata": {
    "collapsed": false
   },
   "outputs": [],
   "source": []
  },
  {
   "cell_type": "code",
   "execution_count": 26,
   "metadata": {
    "collapsed": false
   },
   "outputs": [],
   "source": [
    "slab_pars = a.to_slab(P)"
   ]
  },
  {
   "cell_type": "code",
   "execution_count": null,
   "metadata": {
    "collapsed": false
   },
   "outputs": [],
   "source": []
  },
  {
   "cell_type": "code",
   "execution_count": 27,
   "metadata": {
    "collapsed": false
   },
   "outputs": [],
   "source": [
    "assert(slab_pars[0] * 4 + 8 == np.size(slab_pars))"
   ]
  },
  {
   "cell_type": "code",
   "execution_count": 28,
   "metadata": {
    "collapsed": false
   },
   "outputs": [
    {
     "data": {
      "text/plain": [
       "['__call__',\n",
       " '__class__',\n",
       " '__delattr__',\n",
       " '__dict__',\n",
       " '__dir__',\n",
       " '__doc__',\n",
       " '__eq__',\n",
       " '__format__',\n",
       " '__ge__',\n",
       " '__getattribute__',\n",
       " '__gt__',\n",
       " '__hash__',\n",
       " '__init__',\n",
       " '__le__',\n",
       " '__lt__',\n",
       " '__module__',\n",
       " '__ne__',\n",
       " '__new__',\n",
       " '__reduce__',\n",
       " '__reduce_ex__',\n",
       " '__repr__',\n",
       " '__setattr__',\n",
       " '__sizeof__',\n",
       " '__str__',\n",
       " '__subclasshook__',\n",
       " '__weakref__',\n",
       " 'adsorbed_amount',\n",
       " 'callback',\n",
       " 'dq',\n",
       " 'model',\n",
       " 'n_interior',\n",
       " 'n_slices',\n",
       " 'parallel',\n",
       " 'parameter_names',\n",
       " 'params_test',\n",
       " 'quad_order',\n",
       " 'set_dq',\n",
       " 'sld_poly',\n",
       " 'sld_profile',\n",
       " 'to_slab',\n",
       " 'transform',\n",
       " 'vol_cut',\n",
       " 'vol_fraction']"
      ]
     },
     "execution_count": 28,
     "metadata": {},
     "output_type": "execute_result"
    }
   ],
   "source": [
    "dir(a)"
   ]
  },
  {
   "cell_type": "code",
   "execution_count": 29,
   "metadata": {
    "collapsed": false
   },
   "outputs": [
    {
     "name": "stdout",
     "output_type": "stream",
     "text": [
      "500\n"
     ]
    }
   ],
   "source": [
    "z, rho = a.sld_profile(P)\n",
    "z2, rho2 = a.vol_fraction(P)\n",
    "\n"
   ]
  },
  {
   "cell_type": "code",
   "execution_count": 30,
   "metadata": {
    "collapsed": false
   },
   "outputs": [
    {
     "data": {
      "text/plain": [
       "<Parameter 'roughness_1', 3, bounds=[-inf:inf]>"
      ]
     },
     "execution_count": 30,
     "metadata": {},
     "output_type": "execute_result"
    }
   ],
   "source": [
    "P['roughness_1']"
   ]
  },
  {
   "cell_type": "code",
   "execution_count": 38,
   "metadata": {
    "collapsed": false
   },
   "outputs": [
    {
     "data": {
      "text/plain": [
       "[<matplotlib.lines.Line2D at 0xac44940>]"
      ]
     },
     "execution_count": 38,
     "metadata": {},
     "output_type": "execute_result"
    },
    {
     "data": {
      "image/png": "[encoded data removed]",
      "text/plain": [
       "<matplotlib.figure.Figure at 0x61d0f98>"
      ]
     },
     "metadata": {},
     "output_type": "display_data"
    }
   ],
   "source": [
    "plt.plot(z2,rho2)"
   ]
  },
  {
   "cell_type": "code",
   "execution_count": 32,
   "metadata": {
    "collapsed": false
   },
   "outputs": [],
   "source": [
    "q = np.linspace(0.01, 0.3, 1000)\n",
    "ref = a.model(q, P)"
   ]
  },
  {
   "cell_type": "code",
   "execution_count": 33,
   "metadata": {
    "collapsed": false
   },
   "outputs": [
    {
     "data": {
      "image/png": "[encoded data removed]",
      "text/plain": [
       "<matplotlib.figure.Figure at 0x5edae48>"
      ]
     },
     "metadata": {},
     "output_type": "display_data"
    }
   ],
   "source": [
    "plt.plot(q, ref)\n",
    "plt.xscale('log')"
   ]
  },
  {
   "cell_type": "code",
   "execution_count": 34,
   "metadata": {
    "collapsed": false
   },
   "outputs": [],
   "source": [
    "b = CurveFitter(a, (q, ref), P)\n",
    "# you can give CurveFitter a dataset\n",
    "# b = CurveFitter(a, d, P)"
   ]
  },
  {
   "cell_type": "code",
   "execution_count": 35,
   "metadata": {
    "collapsed": false
   },
   "outputs": [],
   "source": [
    "c = b.fit()"
   ]
  },
  {
   "cell_type": "code",
   "execution_count": 36,
   "metadata": {
    "collapsed": false
   },
   "outputs": [
    {
     "name": "stdout",
     "output_type": "stream",
     "text": [
      "[[Fit Statistics]]\n",
      "    # function evals   = 25\n",
      "    # data points      = 1000\n",
      "    # variables        = 22\n",
      "    chi-square         = 0.000\n",
      "    reduced chi-square = 0.000\n",
      "    Akaike info crit   = -inf\n",
      "    Bayesian info crit = -inf\n",
      "[[Variables]]\n",
      "    scale:                1          +/- 0        (0.00%) (init= 1)\n",
      "    bkg:                  1.0000e-06 +/- 0        (0.00%) (init= 1e-06)\n",
      "    SLD_super:            2.07000000 +/- 0        (0.00%) (init= 2.07)\n",
      "    SLD_sub:              6.36000000 +/- 0        (0.00%) (init= 6.36)\n",
      "    thickness_SiO2:       25         +/- 0        (0.00%) (init= 25)\n",
      "    SLD_SiO2:             3.47000000 +/- 0        (0.00%) (init= 3.47)\n",
      "    roughness_SiO2:       5          +/- 0        (0.00%) (init= 5)\n",
      "    SLD_poly:             1          +/- 0        (0.00%) (init= 1)\n",
      "    adsorbed_amount:      1          +/- 0        (0.00%) (init= 1)\n",
      "    roughness_backing:    3          +/- 0        (0.00%) (init= 3)\n",
      "    phi_init:             0.30000000 +/- 0        (0.00%) (init= 0.3)\n",
      "    tail_thickness:       200        +/- 0        (0.00%) (init= 200)\n",
      "    roughness_tail2int:   3          +/- 0        (0.00%) (init= 3)\n",
      "    thickness_1:          20         +/- 0        (0.00%) (init= 20)\n",
      "    phi_1:                0.50000000 +/- 0        (0.00%) (init= 0.5)\n",
      "    roughness_1:          3          +/- 0        (0.00%) (init= 3)\n",
      "    thickness_2:          20         +/- 0        (0.00%) (init= 20)\n",
      "    phi_2:                0.50000000 +/- 0        (0.00%) (init= 0.5)\n",
      "    roughness_2:          3          +/- 0        (0.00%) (init= 3)\n",
      "    thickness_3:          20         +/- 0        (0.00%) (init= 20)\n",
      "    phi_3:                0.50000000 +/- 0        (0.00%) (init= 0.5)\n",
      "    roughness_3:          3.00000004 +/- 0        (0.00%) (init= 3)\n",
      "[[Correlations]] (unreported correlations are <  0.100)\n"
     ]
    }
   ],
   "source": [
    "print(printfuncs.fit_report(c))"
   ]
  },
  {
   "cell_type": "code",
   "execution_count": 37,
   "metadata": {
    "collapsed": false
   },
   "outputs": [
    {
     "data": {
      "text/plain": [
       "<bound method CurveFitter.emcee of <refnx.analysis.curvefitter.CurveFitter object at 0x000000000ABC6898>>"
      ]
     },
     "execution_count": 37,
     "metadata": {},
     "output_type": "execute_result"
    }
   ],
   "source": [
    "b.emcee"
   ]
  },
  {
   "cell_type": "code",
   "execution_count": null,
   "metadata": {
    "collapsed": true
   },
   "outputs": [],
   "source": []
  },
  {
   "cell_type": "code",
   "execution_count": null,
   "metadata": {
    "collapsed": true
   },
   "outputs": [],
   "source": []
  },
  {
   "cell_type": "code",
   "execution_count": null,
   "metadata": {
    "collapsed": true
   },
   "outputs": [],
   "source": []
  },
  {
   "cell_type": "code",
   "execution_count": null,
   "metadata": {
    "collapsed": true
   },
   "outputs": [],
   "source": []
  }
 ],
 "metadata": {
  "kernelspec": {
   "display_name": "Python 3",
   "language": "python",
   "name": "python3"
  },
  "language_info": {
   "codemirror_mode": {
    "name": "ipython",
    "version": 3
   },
   "file_extension": ".py",
   "mimetype": "text/x-python",
   "name": "python",
   "nbconvert_exporter": "python",
   "pygments_lexer": "ipython3",
   "version": "3.4.4"
  }
 },
 "nbformat": 4,
 "nbformat_minor": 0
}
