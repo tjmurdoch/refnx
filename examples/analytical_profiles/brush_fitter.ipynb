{
 "cells": [
  {
   "cell_type": "code",
   "execution_count": 1,
   "metadata": {
    "collapsed": false
   },
   "outputs": [],
   "source": [
    "%load_ext autoreload\n",
    "%autoreload 2"
   ]
  },
  {
   "cell_type": "code",
   "execution_count": 2,
   "metadata": {
    "collapsed": false
   },
   "outputs": [],
   "source": [
    "from brush import BrushPara\n",
    "import numpy as np\n",
    "from lmfit import Parameters, printfuncs\n",
    "from refnx.analysis import Transform, CurveFitter\n",
    "from refnx.dataset import ReflectDataset\n",
    "%matplotlib inline\n",
    "import matplotlib.pyplot as plt"
   ]
  },
  {
   "cell_type": "code",
   "execution_count": 4,
   "metadata": {
    "collapsed": true
   },
   "outputs": [],
   "source": [
    "# load the dataset\n",
    "\n",
    "d = ReflectDataset('c_PLP0024633.dat')"
   ]
  },
  {
   "cell_type": "code",
   "execution_count": 6,
   "metadata": {
    "collapsed": true
   },
   "outputs": [],
   "source": [
    "t = Transform('logY').transform"
   ]
  },
  {
   "cell_type": "code",
   "execution_count": 7,
   "metadata": {
    "collapsed": false
   },
   "outputs": [],
   "source": [
    "# Transform the data to log R\n",
    "d.y, d.y_err = t(d.x, d.y, d.y_err)"
   ]
  },
  {
   "cell_type": "code",
   "execution_count": 88,
   "metadata": {
    "collapsed": false
   },
   "outputs": [],
   "source": [
    "a = BrushPara(0.46, 3, n_slices=25, dq=9, transform=t)"
   ]
  },
  {
   "cell_type": "code",
   "execution_count": 12,
   "metadata": {
    "collapsed": false
   },
   "outputs": [
    {
     "data": {
      "text/plain": [
       "['scale',\n",
       " 'bkg',\n",
       " 'SLD_super',\n",
       " 'SLD_sub',\n",
       " 'thickness_SiO2',\n",
       " 'SLD_SiO2',\n",
       " 'roughness_SiO2',\n",
       " 'roughness_backing',\n",
       " 'phi_init',\n",
       " 'tail_thickness',\n",
       " 'roughness_tail2int',\n",
       " 'thickness_1',\n",
       " 'phi_1',\n",
       " 'roughness_1',\n",
       " 'thickness_2',\n",
       " 'phi_2',\n",
       " 'roughness_2',\n",
       " 'thickness_3',\n",
       " 'phi_3',\n",
       " 'roughness_3']"
      ]
     },
     "execution_count": 12,
     "metadata": {},
     "output_type": "execute_result"
    }
   ],
   "source": [
    "a.parameter_names()"
   ]
  },
  {
   "cell_type": "code",
   "execution_count": 89,
   "metadata": {
    "collapsed": false
   },
   "outputs": [],
   "source": [
    "vals = [1, 1e-6, 2.07, 6.11, 8.8, 3.25, 3.5,10, 0.1, 1000, 4,\n",
    "            28, 0.95, 2, 50, 0.85, 2, 100, 0.2, 20]\n",
    "lbs = [0.8, 1e-7, 2.06, 6.10, 8.7, 3.24, 3.4, 2, 0.006, 50,3,\n",
    "            10, 0.1, 2, 10, 0.1, 2, 10, 0.1, 2]\n",
    "ubs = [1.1, 1e-6, 2.08, 6.36, 8.9, 3.26, 3.6, 10, 0.5, 500,8,\n",
    "            50, 0.8, 10, 50, 0.8, 10, 50, 0.8, 10]\n",
    "varies = np.array([True] * 20, bool)\n",
    "varies[[2,3,4,5,6]] = False"
   ]
  },
  {
   "cell_type": "code",
   "execution_count": 90,
   "metadata": {
    "collapsed": true
   },
   "outputs": [],
   "source": [
    "P = Parameters()"
   ]
  },
  {
   "cell_type": "code",
   "execution_count": 91,
   "metadata": {
    "collapsed": false
   },
   "outputs": [],
   "source": [
    "for name, val, vary, lb, ub in zip(a.parameter_names(), vals, varies, lbs, ubs):\n",
    "    P.add(name, val, vary, lb, ub)"
   ]
  },
  {
   "cell_type": "code",
   "execution_count": 92,
   "metadata": {
    "collapsed": false
   },
   "outputs": [],
   "source": [
    "slab_pars = a.to_slab(P)"
   ]
  },
  {
   "cell_type": "code",
   "execution_count": 93,
   "metadata": {
    "collapsed": false
   },
   "outputs": [],
   "source": [
    "assert(slab_pars[0] * 4 + 8 == np.size(slab_pars))"
   ]
  },
  {
   "cell_type": "code",
   "execution_count": 94,
   "metadata": {
    "collapsed": false
   },
   "outputs": [
    {
     "data": {
      "text/plain": [
       "['__call__',\n",
       " '__class__',\n",
       " '__delattr__',\n",
       " '__dict__',\n",
       " '__dir__',\n",
       " '__doc__',\n",
       " '__eq__',\n",
       " '__format__',\n",
       " '__ge__',\n",
       " '__getattribute__',\n",
       " '__gt__',\n",
       " '__hash__',\n",
       " '__init__',\n",
       " '__le__',\n",
       " '__lt__',\n",
       " '__module__',\n",
       " '__ne__',\n",
       " '__new__',\n",
       " '__reduce__',\n",
       " '__reduce_ex__',\n",
       " '__repr__',\n",
       " '__setattr__',\n",
       " '__sizeof__',\n",
       " '__str__',\n",
       " '__subclasshook__',\n",
       " '__weakref__',\n",
       " 'adsorbed_amount',\n",
       " 'callback',\n",
       " 'dq',\n",
       " 'gen_par',\n",
       " 'model',\n",
       " 'moment',\n",
       " 'n_interior',\n",
       " 'n_slices',\n",
       " 'parallel',\n",
       " 'parameter_names',\n",
       " 'quad_order',\n",
       " 'set_dq',\n",
       " 'sld_poly',\n",
       " 'sld_profile',\n",
       " 'tail_par',\n",
       " 'to_slab',\n",
       " 'transform',\n",
       " 'vol_cut',\n",
       " 'vol_fraction']"
      ]
     },
     "execution_count": 94,
     "metadata": {},
     "output_type": "execute_result"
    }
   ],
   "source": [
    "dir(a)"
   ]
  },
  {
   "cell_type": "code",
   "execution_count": 95,
   "metadata": {
    "collapsed": false
   },
   "outputs": [],
   "source": [
    "z, rho = a.sld_profile(P)\n",
    "z2, rho2 = a.vol_fraction(P)"
   ]
  },
  {
   "cell_type": "code",
   "execution_count": 96,
   "metadata": {
    "collapsed": false
   },
   "outputs": [
    {
     "data": {
      "text/plain": [
       "<Parameter 'roughness_1', 2, bounds=[2:10]>"
      ]
     },
     "execution_count": 96,
     "metadata": {},
     "output_type": "execute_result"
    }
   ],
   "source": [
    "P['roughness_1']"
   ]
  },
  {
   "cell_type": "code",
   "execution_count": 97,
   "metadata": {
    "collapsed": false
   },
   "outputs": [
    {
     "data": {
      "text/plain": [
       "[<matplotlib.lines.Line2D at 0xd856358>]"
      ]
     },
     "execution_count": 97,
     "metadata": {},
     "output_type": "execute_result"
    },
    {
     "data": {
      "image/png": "[encoded data removed]",
      "text/plain": [
       "<matplotlib.figure.Figure at 0xa7ecba8>"
      ]
     },
     "metadata": {},
     "output_type": "display_data"
    }
   ],
   "source": [
    "plt.plot(z2,rho2)"
   ]
  },
  {
   "cell_type": "code",
   "execution_count": 98,
   "metadata": {
    "collapsed": false
   },
   "outputs": [
    {
     "name": "stdout",
     "output_type": "stream",
     "text": [
      "105.506996585\n"
     ]
    }
   ],
   "source": [
    "area = a.adsorbed_amount(P)\n",
    "print(area)"
   ]
  },
  {
   "cell_type": "code",
   "execution_count": 99,
   "metadata": {
    "collapsed": false
   },
   "outputs": [],
   "source": [
    "q = np.linspace(0.01, 0.3, 1000)\n",
    "ref = a.model(q, P)"
   ]
  },
  {
   "cell_type": "code",
   "execution_count": 100,
   "metadata": {
    "collapsed": false
   },
   "outputs": [
    {
     "data": {
      "text/plain": [
       "[<matplotlib.lines.Line2D at 0xd8b3f98>]"
      ]
     },
     "execution_count": 100,
     "metadata": {},
     "output_type": "execute_result"
    },
    {
     "data": {
      "image/png": "[encoded data removed]",
      "text/plain": [
       "<matplotlib.figure.Figure at 0xd7cad68>"
      ]
     },
     "metadata": {},
     "output_type": "display_data"
    }
   ],
   "source": [
    "plt.plot(q, ref)\n",
    "# plt.xscale('log')"
   ]
  },
  {
   "cell_type": "code",
   "execution_count": 101,
   "metadata": {
    "collapsed": false
   },
   "outputs": [],
   "source": [
    "# b = CurveFitter(a, (q, ref), P)\n",
    "# you can give CurveFitter a dataset\n",
    "b = CurveFitter(a, d, P)"
   ]
  },
  {
   "cell_type": "code",
   "execution_count": 102,
   "metadata": {
    "collapsed": false
   },
   "outputs": [],
   "source": [
    "c = b.fit('differential_evolution')"
   ]
  },
  {
   "cell_type": "code",
   "execution_count": 103,
   "metadata": {
    "collapsed": false
   },
   "outputs": [
    {
     "name": "stdout",
     "output_type": "stream",
     "text": [
      "[[Fit Statistics]]\n",
      "    # function evals   = 28507\n",
      "    # data points      = 181\n",
      "    # variables        = 15\n",
      "    chi-square         = 923.685\n",
      "    reduced chi-square = 5.564\n",
      "    Akaike info crit   = 340.665\n",
      "    Bayesian info crit = 388.643\n",
      "[[Variables]]\n",
      "    scale:                1.07409214 (init= 1)\n",
      "    bkg:                  1.0000e-06 (init= 1e-06)\n",
      "    SLD_super:            2.07 (fixed)\n",
      "    SLD_sub:              6.11 (fixed)\n",
      "    thickness_SiO2:       8.8 (fixed)\n",
      "    SLD_SiO2:             3.25 (fixed)\n",
      "    roughness_SiO2:       3.5 (fixed)\n",
      "    roughness_backing:    2.79007781 (init= 10)\n",
      "    phi_init:             0.01984086 (init= 0.1)\n",
      "    tail_thickness:       500        (init= 500)\n",
      "    roughness_tail2int:   3          (init= 4)\n",
      "    thickness_1:          14.3497272 (init= 28)\n",
      "    phi_1:                0.80000000 (init= 0.8)\n",
      "    roughness_1:          9.75768675 (init= 2)\n",
      "    thickness_2:          50         (init= 50)\n",
      "    phi_2:                0.66547706 (init= 0.8)\n",
      "    roughness_2:          2          (init= 2)\n",
      "    thickness_3:          50         (init= 50)\n",
      "    phi_3:                0.80000000 (init= 0.2)\n",
      "    roughness_3:          2          (init= 10)\n",
      "[[Correlations]] (unreported correlations are <  0.100)\n"
     ]
    }
   ],
   "source": [
    "print(printfuncs.fit_report(c))"
   ]
  },
  {
   "cell_type": "code",
   "execution_count": 104,
   "metadata": {
    "collapsed": false
   },
   "outputs": [
    {
     "data": {
      "text/plain": [
       "[<matplotlib.lines.Line2D at 0xd9207b8>,\n",
       " <matplotlib.lines.Line2D at 0xd920a58>]"
      ]
     },
     "execution_count": 104,
     "metadata": {},
     "output_type": "execute_result"
    },
    {
     "data": {
      "image/png": "[encoded data removed]",
      "text/plain": [
       "<matplotlib.figure.Figure at 0xd7d6c88>"
      ]
     },
     "metadata": {},
     "output_type": "display_data"
    }
   ],
   "source": [
    "fit_ref = a.model(d.x,c.params)\n",
    "plt.plot(d.x,d.y,'o',d.x,fit_ref,'-')"
   ]
  },
  {
   "cell_type": "code",
   "execution_count": 105,
   "metadata": {
    "collapsed": false
   },
   "outputs": [
    {
     "data": {
      "text/plain": [
       "Parameters([('scale',\n",
       "             <Parameter 'scale', 1.0740921481580514, bounds=[0.8:1.1]>),\n",
       "            ('bkg',\n",
       "             <Parameter 'bkg', 9.9999999999999995e-07, bounds=[1e-07:1e-06]>),\n",
       "            ('SLD_super',\n",
       "             <Parameter 'SLD_super', value=2.07 (fixed), bounds=[2.06:2.08]>),\n",
       "            ('SLD_sub',\n",
       "             <Parameter 'SLD_sub', value=6.11 (fixed), bounds=[6.1:6.36]>),\n",
       "            ('thickness_SiO2',\n",
       "             <Parameter 'thickness_SiO2', value=8.8 (fixed), bounds=[8.7:8.9]>),\n",
       "            ('SLD_SiO2',\n",
       "             <Parameter 'SLD_SiO2', value=3.25 (fixed), bounds=[3.24:3.26]>),\n",
       "            ('roughness_SiO2',\n",
       "             <Parameter 'roughness_SiO2', value=3.5 (fixed), bounds=[3.4:3.6]>),\n",
       "            ('roughness_backing',\n",
       "             <Parameter 'roughness_backing', 2.79007781369191, bounds=[2:10]>),\n",
       "            ('phi_init',\n",
       "             <Parameter 'phi_init', 0.019840864769520038, bounds=[0.006:0.5]>),\n",
       "            ('tail_thickness',\n",
       "             <Parameter 'tail_thickness', 500.0, bounds=[50:500]>),\n",
       "            ('roughness_tail2int',\n",
       "             <Parameter 'roughness_tail2int', 3.0, bounds=[3:8]>),\n",
       "            ('thickness_1',\n",
       "             <Parameter 'thickness_1', 14.349727254295603, bounds=[10:50]>),\n",
       "            ('phi_1',\n",
       "             <Parameter 'phi_1', 0.80000000000000004, bounds=[0.1:0.8]>),\n",
       "            ('roughness_1',\n",
       "             <Parameter 'roughness_1', 9.7576867583552023, bounds=[2:10]>),\n",
       "            ('thickness_2', <Parameter 'thickness_2', 50.0, bounds=[10:50]>),\n",
       "            ('phi_2',\n",
       "             <Parameter 'phi_2', 0.66547706154297614, bounds=[0.1:0.8]>),\n",
       "            ('roughness_2', <Parameter 'roughness_2', 2.0, bounds=[2:10]>),\n",
       "            ('thickness_3', <Parameter 'thickness_3', 50.0, bounds=[10:50]>),\n",
       "            ('phi_3',\n",
       "             <Parameter 'phi_3', 0.80000000000000004, bounds=[0.1:0.8]>),\n",
       "            ('roughness_3', <Parameter 'roughness_3', 2.0, bounds=[2:10]>)])"
      ]
     },
     "execution_count": 105,
     "metadata": {},
     "output_type": "execute_result"
    }
   ],
   "source": [
    "c.params"
   ]
  },
  {
   "cell_type": "code",
   "execution_count": 108,
   "metadata": {
    "collapsed": false
   },
   "outputs": [
    {
     "data": {
      "text/plain": [
       "90.226269369868689"
      ]
     },
     "execution_count": 108,
     "metadata": {},
     "output_type": "execute_result"
    }
   ],
   "source": [
    "a.adsorbed_amount(c.params)"
   ]
  },
  {
   "cell_type": "code",
   "execution_count": 110,
   "metadata": {
    "collapsed": false
   },
   "outputs": [
    {
     "data": {
      "text/plain": [
       "[<matplotlib.lines.Line2D at 0xd9d86d8>]"
      ]
     },
     "execution_count": 110,
     "metadata": {},
     "output_type": "execute_result"
    },
    {
     "data": {
      "image/png": "[encoded data removed]",
      "text/plain": [
       "<matplotlib.figure.Figure at 0xd97c518>"
      ]
     },
     "metadata": {},
     "output_type": "display_data"
    }
   ],
   "source": [
    "z, rho = a.vol_fraction(c.params)\n",
    "plt.plot(z,rho)"
   ]
  },
  {
   "cell_type": "code",
   "execution_count": null,
   "metadata": {
    "collapsed": true
   },
   "outputs": [],
   "source": [
    ""
   ]
  }
 ],
 "metadata": {
  "kernelspec": {
   "display_name": "Python 3",
   "language": "python",
   "name": "python3"
  },
  "language_info": {
   "codemirror_mode": {
    "name": "ipython",
    "version": 3.0
   },
   "file_extension": ".py",
   "mimetype": "text/x-python",
   "name": "python",
   "nbconvert_exporter": "python",
   "pygments_lexer": "ipython3",
   "version": "3.4.4"
  }
 },
 "nbformat": 4,
 "nbformat_minor": 0
}