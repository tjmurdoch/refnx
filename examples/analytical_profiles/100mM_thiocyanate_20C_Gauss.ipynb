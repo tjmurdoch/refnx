{
 "cells": [
  {
   "cell_type": "code",
   "execution_count": 225,
   "metadata": {
    "collapsed": false
   },
   "outputs": [
    {
     "name": "stdout",
     "output_type": "stream",
     "text": [
      "The autoreload extension is already loaded. To reload it, use:\n",
      "  %reload_ext autoreload\n"
     ]
    }
   ],
   "source": [
    "%load_ext autoreload\n",
    "%autoreload 2"
   ]
  },
  {
   "cell_type": "code",
   "execution_count": 226,
   "metadata": {
    "collapsed": false
   },
   "outputs": [],
   "source": [
    "from brush import BrushGauss\n",
    "import numpy as np\n",
    "from lmfit import Parameters, printfuncs\n",
    "from refnx.analysis import Transform, CurveFitter\n",
    "from refnx.dataset import ReflectDataset\n",
    "%matplotlib inline\n",
    "import matplotlib.pyplot as plt"
   ]
  },
  {
   "cell_type": "code",
   "execution_count": 227,
   "metadata": {
    "collapsed": false
   },
   "outputs": [],
   "source": [
    "# load the dataset\n",
    "Q, R, dR, dQ = np.loadtxt('100mMSCN20.txt', unpack=True)\n",
    "data = tuple((Q.tolist(), R.tolist(), dR.tolist(), dQ.tolist()))\n",
    "#NB d = ReflectDataset('example.txt') work if reduction done in refnx\n",
    "d = ReflectDataset(data)"
   ]
  },
  {
   "cell_type": "code",
   "execution_count": 228,
   "metadata": {
    "collapsed": true
   },
   "outputs": [],
   "source": [
    "t = Transform('logY').transform"
   ]
  },
  {
   "cell_type": "code",
   "execution_count": 229,
   "metadata": {
    "collapsed": false
   },
   "outputs": [],
   "source": [
    "# Transform the data to log R\n",
    "d.y, d.y_err = t(d.x, d.y, d.y_err)"
   ]
  },
  {
   "cell_type": "code",
   "execution_count": 230,
   "metadata": {
    "collapsed": false
   },
   "outputs": [],
   "source": [
    "#Initialise BushGauss Class\n",
    "a = BrushGauss(0.93, 2, n_slices=50, dq=8.85, transform=t)"
   ]
  },
  {
   "cell_type": "code",
   "execution_count": 231,
   "metadata": {
    "collapsed": false
   },
   "outputs": [
    {
     "data": {
      "text/plain": [
       "['scale',\n",
       " 'bkg',\n",
       " 'SLD_super',\n",
       " 'SLD_sub',\n",
       " 'thickness_SiO2',\n",
       " 'SLD_SiO2',\n",
       " 'roughness_SiO2',\n",
       " 'roughness_backing',\n",
       " 'phi_init',\n",
       " 'thickness_tail',\n",
       " 'roughness_tail2int',\n",
       " 'thickness_1',\n",
       " 'phi_1',\n",
       " 'roughness_1',\n",
       " 'thickness_2',\n",
       " 'phi_2',\n",
       " 'roughness_2']"
      ]
     },
     "execution_count": 231,
     "metadata": {},
     "output_type": "execute_result"
    }
   ],
   "source": [
    "#List parameter names\n",
    "a.parameter_names()"
   ]
  },
  {
   "cell_type": "code",
   "execution_count": 232,
   "metadata": {
    "collapsed": false
   },
   "outputs": [],
   "source": [
    "#Set up values parameters object and fill with appropriate values\n",
    "P = Parameters()\n",
    "\n",
    "vals = [0.97, 1.55e-7, 2.07, 6.184, 19.2, 3.1, 3, 5, 0.2715, 593.2, 34.8,\n",
    "            13.01, 0.826, 4.5, 1, 0.44, 1]\n",
    "lbs = [0.95, 1e-7, 2.06, 5.8, 5, 3, 2.9, 2, 0.006, 400,3,\n",
    "            2, 0.1, 2, 1, 0.1, 1]\n",
    "ubs = [1.1, 1e-6, 2.08, 6.36, 25, 3.47, 3.6, 8, 0.5, 800,50,\n",
    "            20, 1.0, 5, 20, 0.8, 10]\n",
    "varies = np.array([True] * 17, bool)\n",
    "varies[[0, 2, 4, 5, 6]] = False\n",
    "\n",
    "for name, val, vary, lb, ub in zip(a.parameter_names(), vals, varies, lbs, ubs):\n",
    "    P.add(name, val, vary, lb, ub)"
   ]
  },
  {
   "cell_type": "code",
   "execution_count": 233,
   "metadata": {
    "collapsed": false
   },
   "outputs": [],
   "source": [
    "#Generate slab parameters and check that appropriate number generated\n",
    "slab_pars = a.to_slab(P)\n",
    "assert(slab_pars[0] * 4 + 8 == np.size(slab_pars))"
   ]
  },
  {
   "cell_type": "code",
   "execution_count": 234,
   "metadata": {
    "collapsed": false
   },
   "outputs": [
    {
     "data": {
      "text/plain": [
       "[<matplotlib.lines.Line2D at 0xed08b00>]"
      ]
     },
     "execution_count": 234,
     "metadata": {},
     "output_type": "execute_result"
    },
    {
     "data": {
      "image/png": "[encoded data removed]",
      "text/plain": [
       "<matplotlib.figure.Figure at 0xec97828>"
      ]
     },
     "metadata": {},
     "output_type": "display_data"
    }
   ],
   "source": [
    "#Generate and plot SLD profile of initial parameters\n",
    "z1, rho = a.sld_profile(P)\n",
    "plt.plot(z1,rho)"
   ]
  },
  {
   "cell_type": "code",
   "execution_count": 235,
   "metadata": {
    "collapsed": false
   },
   "outputs": [
    {
     "data": {
      "text/plain": [
       "[<matplotlib.lines.Line2D at 0xed756d8>]"
      ]
     },
     "execution_count": 235,
     "metadata": {},
     "output_type": "execute_result"
    },
    {
     "data": {
      "image/png": "[encoded data removed]",
      "text/plain": [
       "<matplotlib.figure.Figure at 0xed32358>"
      ]
     },
     "metadata": {},
     "output_type": "display_data"
    }
   ],
   "source": [
    "#Generate and plot volume fraction profile of initial parameters\n",
    "z2, phi = a.vol_fraction(P)\n",
    "plt.plot(z2,phi)"
   ]
  },
  {
   "cell_type": "code",
   "execution_count": 236,
   "metadata": {
    "collapsed": false
   },
   "outputs": [
    {
     "name": "stdout",
     "output_type": "stream",
     "text": [
      "154.159915581\n"
     ]
    }
   ],
   "source": [
    "#Calculate and print area of intitial profile\n",
    "area = a.vfp_area(P)\n",
    "print(area)"
   ]
  },
  {
   "cell_type": "code",
   "execution_count": 237,
   "metadata": {
    "collapsed": false
   },
   "outputs": [
    {
     "data": {
      "text/plain": [
       "[<matplotlib.lines.Line2D at 0xede4a20>]"
      ]
     },
     "execution_count": 237,
     "metadata": {},
     "output_type": "execute_result"
    },
    {
     "data": {
      "image/png": "[encoded data removed]",
      "text/plain": [
       "<matplotlib.figure.Figure at 0xed80a20>"
      ]
     },
     "metadata": {},
     "output_type": "display_data"
    }
   ],
   "source": [
    "#Calculate and plot simulated reflectivity\n",
    "q = np.linspace(0.01, 0.3, 1000)\n",
    "ref = a.model(q, P)\n",
    "plt.plot(q, ref)\n",
    "# plt.xscale('log')"
   ]
  },
  {
   "cell_type": "code",
   "execution_count": 238,
   "metadata": {
    "collapsed": false
   },
   "outputs": [],
   "source": [
    "# Set up curve-fitting object with model, data and parameters\n",
    "b = CurveFitter(a, d, P)"
   ]
  },
  {
   "cell_type": "code",
   "execution_count": 239,
   "metadata": {
    "collapsed": false
   },
   "outputs": [],
   "source": [
    "#Fit data\n",
    "c = b.fit('differential_evolution',tol=0.001)"
   ]
  },
  {
   "cell_type": "code",
   "execution_count": 240,
   "metadata": {
    "collapsed": false
   },
   "outputs": [
    {
     "name": "stdout",
     "output_type": "stream",
     "text": [
      "[[Fit Statistics]]\n",
      "    # function evals   = 180454\n",
      "    # data points      = 96\n",
      "    # variables        = 12\n",
      "    chi-square         = nan\n",
      "    reduced chi-square = nan\n",
      "    Akaike info crit   = nan\n",
      "    Bayesian info crit = nan\n",
      "[[Variables]]\n",
      "    scale:                0.97 (fixed)\n",
      "    bkg:                  1.2280e-07 (init= 1.55e-07)\n",
      "    SLD_super:            2.07 (fixed)\n",
      "    SLD_sub:              6.05352271 (init= 6.184)\n",
      "    thickness_SiO2:       19.2 (fixed)\n",
      "    SLD_SiO2:             3.1 (fixed)\n",
      "    roughness_SiO2:       3 (fixed)\n",
      "    roughness_backing:    4.46942679 (init= 5)\n",
      "    phi_init:             0.00672550 (init= 0.2715)\n",
      "    thickness_tail:       774.999550 (init= 593.2)\n",
      "    roughness_tail2int:   40.5375883 (init= 34.8)\n",
      "    thickness_1:          19.7990239 (init= 13.01)\n",
      "    phi_1:                0.35857675 (init= 0.826)\n",
      "    roughness_1:          4.54513462 (init= 4.5)\n",
      "    thickness_2:          10.6012226 (init= 1)\n",
      "    phi_2:                0.71791396 (init= 0.44)\n",
      "    roughness_2:          5.65714986 (init= 1)\n",
      "[[Correlations]] (unreported correlations are <  0.100)\n"
     ]
    }
   ],
   "source": [
    "#Pritn Fit Report\n",
    "print(printfuncs.fit_report(c))"
   ]
  },
  {
   "cell_type": "code",
   "execution_count": 241,
   "metadata": {
    "collapsed": false
   },
   "outputs": [
    {
     "data": {
      "text/plain": [
       "[<matplotlib.lines.Line2D at 0xee4dfd0>,\n",
       " <matplotlib.lines.Line2D at 0xee522b0>,\n",
       " <matplotlib.lines.Line2D at 0xee52b00>]"
      ]
     },
     "execution_count": 241,
     "metadata": {},
     "output_type": "execute_result"
    },
    {
     "data": {
      "image/png": "[encoded data removed]",
      "text/plain": [
       "<matplotlib.figure.Figure at 0xedbb3c8>"
      ]
     },
     "metadata": {},
     "output_type": "display_data"
    }
   ],
   "source": [
    "#Plot fit and original data\n",
    "fit_ref = a.model(d.x,c.params)\n",
    "plt.plot(d.x,d.y,'o',d.x,fit_ref,'-',q,ref)"
   ]
  },
  {
   "cell_type": "code",
   "execution_count": 242,
   "metadata": {
    "collapsed": false
   },
   "outputs": [
    {
     "data": {
      "text/plain": [
       "Parameters([('scale',\n",
       "             <Parameter 'scale', value=0.97 (fixed), bounds=[0.95:1.1]>),\n",
       "            ('bkg',\n",
       "             <Parameter 'bkg', 1.2279909943734802e-07, bounds=[1e-07:1e-06]>),\n",
       "            ('SLD_super',\n",
       "             <Parameter 'SLD_super', value=2.07 (fixed), bounds=[2.06:2.08]>),\n",
       "            ('SLD_sub',\n",
       "             <Parameter 'SLD_sub', 6.0535227097828663, bounds=[5.8:6.36]>),\n",
       "            ('thickness_SiO2',\n",
       "             <Parameter 'thickness_SiO2', value=19.2 (fixed), bounds=[5:25]>),\n",
       "            ('SLD_SiO2',\n",
       "             <Parameter 'SLD_SiO2', value=3.1 (fixed), bounds=[3:3.47]>),\n",
       "            ('roughness_SiO2',\n",
       "             <Parameter 'roughness_SiO2', value=3 (fixed), bounds=[2.9:3.6]>),\n",
       "            ('roughness_backing',\n",
       "             <Parameter 'roughness_backing', 4.4694267971772739, bounds=[2:8]>),\n",
       "            ('phi_init',\n",
       "             <Parameter 'phi_init', 0.0067255062492382967, bounds=[0.006:0.5]>),\n",
       "            ('thickness_tail',\n",
       "             <Parameter 'thickness_tail', 774.99955069173882, bounds=[400:800]>),\n",
       "            ('roughness_tail2int',\n",
       "             <Parameter 'roughness_tail2int', 40.537588388283446, bounds=[3:50]>),\n",
       "            ('thickness_1',\n",
       "             <Parameter 'thickness_1', 19.799023972303296, bounds=[2:20]>),\n",
       "            ('phi_1',\n",
       "             <Parameter 'phi_1', 0.35857675972003378, bounds=[0.1:1.0]>),\n",
       "            ('roughness_1',\n",
       "             <Parameter 'roughness_1', 4.5451346221702691, bounds=[2:5]>),\n",
       "            ('thickness_2',\n",
       "             <Parameter 'thickness_2', 10.601222666861851, bounds=[1:20]>),\n",
       "            ('phi_2',\n",
       "             <Parameter 'phi_2', 0.71791396125868068, bounds=[0.1:0.8]>),\n",
       "            ('roughness_2',\n",
       "             <Parameter 'roughness_2', 5.657149862433517, bounds=[1:10]>)])"
      ]
     },
     "execution_count": 242,
     "metadata": {},
     "output_type": "execute_result"
    }
   ],
   "source": [
    "#Check parameters\n",
    "c.params"
   ]
  },
  {
   "cell_type": "code",
   "execution_count": 243,
   "metadata": {
    "collapsed": false
   },
   "outputs": [
    {
     "data": {
      "text/plain": [
       "21.468062924581258"
      ]
     },
     "execution_count": 243,
     "metadata": {},
     "output_type": "execute_result"
    }
   ],
   "source": [
    "#Check integrated area\n",
    "a.vfp_area(c.params)"
   ]
  },
  {
   "cell_type": "code",
   "execution_count": 244,
   "metadata": {
    "collapsed": false
   },
   "outputs": [
    {
     "data": {
      "text/plain": [
       "[<matplotlib.lines.Line2D at 0xeec2160>]"
      ]
     },
     "execution_count": 244,
     "metadata": {},
     "output_type": "execute_result"
    },
    {
     "data": {
      "image/png": "[encoded data removed]",
      "text/plain": [
       "<matplotlib.figure.Figure at 0xee7c320>"
      ]
     },
     "metadata": {},
     "output_type": "display_data"
    }
   ],
   "source": [
    "#Plot volume fraction profile\n",
    "z, rho = a.vol_fraction(c.params)\n",
    "plt.plot(z,rho)"
   ]
  },
  {
   "cell_type": "code",
   "execution_count": null,
   "metadata": {
    "collapsed": false
   },
   "outputs": [],
   "source": []
  },
  {
   "cell_type": "code",
   "execution_count": null,
   "metadata": {
    "collapsed": true
   },
   "outputs": [],
   "source": []
  }
 ],
 "metadata": {
  "kernelspec": {
   "display_name": "Python 3",
   "language": "python",
   "name": "python3"
  },
  "language_info": {
   "codemirror_mode": {
    "name": "ipython",
    "version": 3
   },
   "file_extension": ".py",
   "mimetype": "text/x-python",
   "name": "python",
   "nbconvert_exporter": "python",
   "pygments_lexer": "ipython3",
   "version": "3.4.4"
  }
 },
 "nbformat": 4,
 "nbformat_minor": 0
}
